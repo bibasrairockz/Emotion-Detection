{
 "cells": [
  {
   "cell_type": "markdown",
   "metadata": {
    "id": "_nxzgrghCx7d"
   },
   "source": [
    "## Imports and Installs"
   ]
  },
  {
   "cell_type": "code",
   "execution_count": 1,
   "metadata": {
    "colab": {
     "base_uri": "https://localhost:8080/"
    },
    "executionInfo": {
     "elapsed": 6715,
     "status": "ok",
     "timestamp": 1682171821791,
     "user": {
      "displayName": "Bibas Rai",
      "userId": "14840915709265663697"
     },
     "user_tz": -60
    },
    "id": "syukEjceuEco",
    "outputId": "a08215ec-352e-4a9b-f3c3-5ce47c12b666"
   },
   "outputs": [
    {
     "name": "stdout",
     "output_type": "stream",
     "text": [
      "Requirement already satisfied: emoji in c:\\users\\bibas\\anaconda3\\lib\\site-packages (2.2.0)\n"
     ]
    }
   ],
   "source": [
    "import pandas as pd\n",
    "import numpy as np\n",
    "import io\n",
    "import re\n",
    "import string\n",
    "import nltk\n",
    "from nltk.corpus import stopwords\n",
    "from nltk.tokenize import word_tokenize, sent_tokenize\n",
    "from nltk.stem.porter import PorterStemmer\n",
    "import time\n",
    "import matplotlib.pyplot as plt\n",
    "import seaborn as sns"
   ]
  },
  {
   "cell_type": "markdown",
   "metadata": {
    "id": "Gzxl_7dVCpxN"
   },
   "source": [
    "## Data Aquisition\n"
   ]
  },
  {
   "cell_type": "code",
   "execution_count": 81,
   "metadata": {
    "id": "dXzhubJGtoL9"
   },
   "outputs": [],
   "source": [
    "df1 = pd.read_csv('https://raw.githubusercontent.com/google-research/google-research/master/goemotions/data/train.tsv', sep='\\t',names=['text','l','id'])\n",
    "df2 = pd.read_csv('https://raw.githubusercontent.com/google-research/google-research/master/goemotions/data/dev.tsv', sep='\\t',names=['text','l','id'])\n",
    "df3 = pd.read_csv('https://raw.githubusercontent.com/google-research/google-research/master/goemotions/data/test.tsv', sep='\\t',names=['text','l','id'])\n",
    "\n",
    "df = pd.concat([df1,df2,df3], axis=0, ignore_index=True)\n",
    "df = df.drop(columns=['id'])"
   ]
  },
  {
   "cell_type": "code",
   "execution_count": 82,
   "metadata": {},
   "outputs": [
    {
     "data": {
      "text/html": [
       "<div>\n",
       "<style scoped>\n",
       "    .dataframe tbody tr th:only-of-type {\n",
       "        vertical-align: middle;\n",
       "    }\n",
       "\n",
       "    .dataframe tbody tr th {\n",
       "        vertical-align: top;\n",
       "    }\n",
       "\n",
       "    .dataframe thead th {\n",
       "        text-align: right;\n",
       "    }\n",
       "</style>\n",
       "<table border=\"1\" class=\"dataframe\">\n",
       "  <thead>\n",
       "    <tr style=\"text-align: right;\">\n",
       "      <th></th>\n",
       "      <th>text</th>\n",
       "      <th>l</th>\n",
       "    </tr>\n",
       "  </thead>\n",
       "  <tbody>\n",
       "    <tr>\n",
       "      <th>0</th>\n",
       "      <td>My favourite food is anything I didn't have to...</td>\n",
       "      <td>27</td>\n",
       "    </tr>\n",
       "    <tr>\n",
       "      <th>1</th>\n",
       "      <td>Now if he does off himself, everyone will thin...</td>\n",
       "      <td>27</td>\n",
       "    </tr>\n",
       "    <tr>\n",
       "      <th>2</th>\n",
       "      <td>WHY THE FUCK IS BAYLESS ISOING</td>\n",
       "      <td>2</td>\n",
       "    </tr>\n",
       "    <tr>\n",
       "      <th>3</th>\n",
       "      <td>To make her feel threatened</td>\n",
       "      <td>14</td>\n",
       "    </tr>\n",
       "    <tr>\n",
       "      <th>4</th>\n",
       "      <td>Dirty Southern Wankers</td>\n",
       "      <td>3</td>\n",
       "    </tr>\n",
       "    <tr>\n",
       "      <th>...</th>\n",
       "      <td>...</td>\n",
       "      <td>...</td>\n",
       "    </tr>\n",
       "    <tr>\n",
       "      <th>54258</th>\n",
       "      <td>Thanks. I was diagnosed with BP 1 after the ho...</td>\n",
       "      <td>15</td>\n",
       "    </tr>\n",
       "    <tr>\n",
       "      <th>54259</th>\n",
       "      <td>Well that makes sense.</td>\n",
       "      <td>4</td>\n",
       "    </tr>\n",
       "    <tr>\n",
       "      <th>54260</th>\n",
       "      <td>Daddy issues [NAME]</td>\n",
       "      <td>27</td>\n",
       "    </tr>\n",
       "    <tr>\n",
       "      <th>54261</th>\n",
       "      <td>So glad I discovered that subreddit a couple m...</td>\n",
       "      <td>0</td>\n",
       "    </tr>\n",
       "    <tr>\n",
       "      <th>54262</th>\n",
       "      <td>Had to watch \"Elmo in Grouchland\" one time too...</td>\n",
       "      <td>27</td>\n",
       "    </tr>\n",
       "  </tbody>\n",
       "</table>\n",
       "<p>54263 rows × 2 columns</p>\n",
       "</div>"
      ],
      "text/plain": [
       "                                                    text   l\n",
       "0      My favourite food is anything I didn't have to...  27\n",
       "1      Now if he does off himself, everyone will thin...  27\n",
       "2                         WHY THE FUCK IS BAYLESS ISOING   2\n",
       "3                            To make her feel threatened  14\n",
       "4                                 Dirty Southern Wankers   3\n",
       "...                                                  ...  ..\n",
       "54258  Thanks. I was diagnosed with BP 1 after the ho...  15\n",
       "54259                             Well that makes sense.   4\n",
       "54260                                Daddy issues [NAME]  27\n",
       "54261  So glad I discovered that subreddit a couple m...   0\n",
       "54262  Had to watch \"Elmo in Grouchland\" one time too...  27\n",
       "\n",
       "[54263 rows x 2 columns]"
      ]
     },
     "execution_count": 82,
     "metadata": {},
     "output_type": "execute_result"
    }
   ],
   "source": [
    "df"
   ]
  },
  {
   "cell_type": "code",
   "execution_count": 83,
   "metadata": {
    "colab": {
     "base_uri": "https://localhost:8080/"
    },
    "executionInfo": {
     "elapsed": 214,
     "status": "ok",
     "timestamp": 1682171966399,
     "user": {
      "displayName": "Bibas Rai",
      "userId": "14840915709265663697"
     },
     "user_tz": -60
    },
    "id": "IiBoribvw5za",
    "outputId": "82836ea0-9039-4f8c-feb5-168a4c700cad"
   },
   "outputs": [
    {
     "data": {
      "text/plain": [
       "(54263, 2)"
      ]
     },
     "execution_count": 83,
     "metadata": {},
     "output_type": "execute_result"
    }
   ],
   "source": [
    "df.shape"
   ]
  },
  {
   "cell_type": "code",
   "execution_count": 84,
   "metadata": {},
   "outputs": [
    {
     "data": {
      "text/plain": [
       "782"
      ]
     },
     "execution_count": 84,
     "metadata": {},
     "output_type": "execute_result"
    }
   ],
   "source": [
    "df['l'].nunique()"
   ]
  },
  {
   "cell_type": "code",
   "execution_count": 85,
   "metadata": {},
   "outputs": [
    {
     "name": "stderr",
     "output_type": "stream",
     "text": [
      "C:\\Users\\bibas\\AppData\\Local\\Temp\\ipykernel_7712\\2058537554.py:3: FutureWarning: The default dtype for empty Series will be 'object' instead of 'float64' in a future version. Specify a dtype explicitly to silence this warning.\n",
      "  x = pd.Series()\n"
     ]
    }
   ],
   "source": [
    "classifieds = [0,0,1,1,8,2,10,4,4,5,6,6,6,0,7,8,9,11,2,7,3,12,3,3,10,10,0,13]\n",
    "\n",
    "x = pd.Series() \n",
    "\n",
    "def lis(x):\n",
    "    return x.split(\",\")\n",
    "\n",
    "x=df['l'].apply(lis)\n",
    "\n",
    "def dataP(a):\n",
    "    l= np.zeros((14,), dtype=int)\n",
    "    for i,v in enumerate(a):\n",
    "        l[classifieds[int(v)]] = 1\n",
    "    return l\n",
    "\n",
    "x=x.apply(dataP)"
   ]
  },
  {
   "cell_type": "code",
   "execution_count": null,
   "metadata": {},
   "outputs": [],
   "source": []
  },
  {
   "cell_type": "code",
   "execution_count": 86,
   "metadata": {
    "id": "fkSnNVzCXu7W"
   },
   "outputs": [],
   "source": [
    "classes = [0,0,1,1,8,2,10,4,4,5,6,6,6,0,7,8,9,11,2,7,3,12,3,3,10,10,0,13]\n",
    "\n",
    "\n",
    "def dataP(a):\n",
    "    l=a.split(\",\")\n",
    "    for i,v in enumerate(l):\n",
    "        l[i]=classes[int(v)]\n",
    "    return ','.join(map(str, l))\n",
    "\n",
    "df['l']=df['l'].apply(dataP)\n"
   ]
  },
  {
   "cell_type": "code",
   "execution_count": 87,
   "metadata": {},
   "outputs": [
    {
     "data": {
      "text/html": [
       "<div>\n",
       "<style scoped>\n",
       "    .dataframe tbody tr th:only-of-type {\n",
       "        vertical-align: middle;\n",
       "    }\n",
       "\n",
       "    .dataframe tbody tr th {\n",
       "        vertical-align: top;\n",
       "    }\n",
       "\n",
       "    .dataframe thead th {\n",
       "        text-align: right;\n",
       "    }\n",
       "</style>\n",
       "<table border=\"1\" class=\"dataframe\">\n",
       "  <thead>\n",
       "    <tr style=\"text-align: right;\">\n",
       "      <th></th>\n",
       "      <th>text</th>\n",
       "      <th>l</th>\n",
       "    </tr>\n",
       "  </thead>\n",
       "  <tbody>\n",
       "    <tr>\n",
       "      <th>0</th>\n",
       "      <td>My favourite food is anything I didn't have to...</td>\n",
       "      <td>13</td>\n",
       "    </tr>\n",
       "    <tr>\n",
       "      <th>1</th>\n",
       "      <td>Now if he does off himself, everyone will thin...</td>\n",
       "      <td>13</td>\n",
       "    </tr>\n",
       "    <tr>\n",
       "      <th>2</th>\n",
       "      <td>WHY THE FUCK IS BAYLESS ISOING</td>\n",
       "      <td>1</td>\n",
       "    </tr>\n",
       "    <tr>\n",
       "      <th>3</th>\n",
       "      <td>To make her feel threatened</td>\n",
       "      <td>7</td>\n",
       "    </tr>\n",
       "    <tr>\n",
       "      <th>4</th>\n",
       "      <td>Dirty Southern Wankers</td>\n",
       "      <td>1</td>\n",
       "    </tr>\n",
       "    <tr>\n",
       "      <th>...</th>\n",
       "      <td>...</td>\n",
       "      <td>...</td>\n",
       "    </tr>\n",
       "    <tr>\n",
       "      <th>54258</th>\n",
       "      <td>Thanks. I was diagnosed with BP 1 after the ho...</td>\n",
       "      <td>8</td>\n",
       "    </tr>\n",
       "    <tr>\n",
       "      <th>54259</th>\n",
       "      <td>Well that makes sense.</td>\n",
       "      <td>8</td>\n",
       "    </tr>\n",
       "    <tr>\n",
       "      <th>54260</th>\n",
       "      <td>Daddy issues [NAME]</td>\n",
       "      <td>13</td>\n",
       "    </tr>\n",
       "    <tr>\n",
       "      <th>54261</th>\n",
       "      <td>So glad I discovered that subreddit a couple m...</td>\n",
       "      <td>0</td>\n",
       "    </tr>\n",
       "    <tr>\n",
       "      <th>54262</th>\n",
       "      <td>Had to watch \"Elmo in Grouchland\" one time too...</td>\n",
       "      <td>13</td>\n",
       "    </tr>\n",
       "  </tbody>\n",
       "</table>\n",
       "<p>54263 rows × 2 columns</p>\n",
       "</div>"
      ],
      "text/plain": [
       "                                                    text   l\n",
       "0      My favourite food is anything I didn't have to...  13\n",
       "1      Now if he does off himself, everyone will thin...  13\n",
       "2                         WHY THE FUCK IS BAYLESS ISOING   1\n",
       "3                            To make her feel threatened   7\n",
       "4                                 Dirty Southern Wankers   1\n",
       "...                                                  ...  ..\n",
       "54258  Thanks. I was diagnosed with BP 1 after the ho...   8\n",
       "54259                             Well that makes sense.   8\n",
       "54260                                Daddy issues [NAME]  13\n",
       "54261  So glad I discovered that subreddit a couple m...   0\n",
       "54262  Had to watch \"Elmo in Grouchland\" one time too...  13\n",
       "\n",
       "[54263 rows x 2 columns]"
      ]
     },
     "execution_count": 87,
     "metadata": {},
     "output_type": "execute_result"
    }
   ],
   "source": [
    "df"
   ]
  },
  {
   "cell_type": "code",
   "execution_count": 89,
   "metadata": {},
   "outputs": [
    {
     "name": "stdout",
     "output_type": "stream",
     "text": [
      "0 - admiration  =  10066\n",
      "1 - amusement  =  4705\n",
      "2 - anger  =  3899\n",
      "3 - annoyance  =  3498\n",
      "4 - approval  =  3508\n",
      "5 - caring  =  1583\n",
      "6 - confusion  =  3907\n",
      "7 - curiosity  =  929\n",
      "8 - desire  =  6986\n",
      "9 - disappointment  =  96\n",
      "10 - disapproval  =  3884\n",
      "11 - disgust  =  1785\n",
      "12 - embarrassment  =  142\n",
      "13 - excitement  =  17772\n"
     ]
    }
   ],
   "source": [
    "class_names= [\"admiration\", \"amusement\", \"anger\", \"annoyance\", \"approval\", \"caring\", \"confusion\", \"curiosity\", \"desire\",\"disappointment\", \"disapproval\", \n",
    "               \"disgust\", \"embarrassment\", \"excitement\", \"fear\", \"gratitude\", \"grief\", \"joy\", \"love\", \"nervousness\", \"optimism\", \"pride\", \"realization\",\n",
    "               \"relief\", \"remorse\",\" sadness\", \"surprise\", \"neutral\"]\n",
    "\n",
    "count= np.zeros((14,), dtype=int)\n",
    "\n",
    "for i,q in enumerate(x):\n",
    "    for j,p in enumerate(q):\n",
    "        if p == 1:\n",
    "            count[j] +=1\n",
    "\n",
    "for i in range(14):\n",
    "    print(i,\"-\",class_names[i], \" = \", count[i])"
   ]
  },
  {
   "cell_type": "code",
   "execution_count": 72,
   "metadata": {},
   "outputs": [
    {
     "data": {
      "text/plain": [
       "'0,8'"
      ]
     },
     "execution_count": 72,
     "metadata": {},
     "output_type": "execute_result"
    }
   ],
   "source": [
    "df['l'][11]"
   ]
  },
  {
   "cell_type": "code",
   "execution_count": 73,
   "metadata": {},
   "outputs": [
    {
     "data": {
      "text/plain": [
       "str"
      ]
     },
     "execution_count": 73,
     "metadata": {},
     "output_type": "execute_result"
    }
   ],
   "source": [
    "type(df['l'][7][0])\n"
   ]
  },
  {
   "cell_type": "code",
   "execution_count": null,
   "metadata": {},
   "outputs": [],
   "source": []
  },
  {
   "cell_type": "markdown",
   "metadata": {},
   "source": [
    "## Analysis and Visualization of dataset"
   ]
  },
  {
   "cell_type": "code",
   "execution_count": 90,
   "metadata": {},
   "outputs": [
    {
     "name": "stdout",
     "output_type": "stream",
     "text": [
      "(54263, 2)\n",
      "text    0\n",
      "l       0\n",
      "dtype: int64\n"
     ]
    }
   ],
   "source": [
    "print(df.shape)\n",
    "print(df.isnull().sum())"
   ]
  },
  {
   "cell_type": "code",
   "execution_count": 91,
   "metadata": {},
   "outputs": [
    {
     "name": "stdout",
     "output_type": "stream",
     "text": [
      "<class 'pandas.core.frame.DataFrame'>\n",
      "RangeIndex: 54263 entries, 0 to 54262\n",
      "Data columns (total 2 columns):\n",
      " #   Column  Non-Null Count  Dtype \n",
      "---  ------  --------------  ----- \n",
      " 0   text    54263 non-null  object\n",
      " 1   l       54263 non-null  object\n",
      "dtypes: object(2)\n",
      "memory usage: 848.0+ KB\n"
     ]
    }
   ],
   "source": [
    "df.info()"
   ]
  },
  {
   "cell_type": "code",
   "execution_count": 92,
   "metadata": {},
   "outputs": [
    {
     "data": {
      "text/html": [
       "<div>\n",
       "<style scoped>\n",
       "    .dataframe tbody tr th:only-of-type {\n",
       "        vertical-align: middle;\n",
       "    }\n",
       "\n",
       "    .dataframe tbody tr th {\n",
       "        vertical-align: top;\n",
       "    }\n",
       "\n",
       "    .dataframe thead th {\n",
       "        text-align: right;\n",
       "    }\n",
       "</style>\n",
       "<table border=\"1\" class=\"dataframe\">\n",
       "  <thead>\n",
       "    <tr style=\"text-align: right;\">\n",
       "      <th></th>\n",
       "      <th>text</th>\n",
       "      <th>l</th>\n",
       "    </tr>\n",
       "  </thead>\n",
       "  <tbody>\n",
       "    <tr>\n",
       "      <th>count</th>\n",
       "      <td>54263</td>\n",
       "      <td>54263</td>\n",
       "    </tr>\n",
       "    <tr>\n",
       "      <th>unique</th>\n",
       "      <td>53994</td>\n",
       "      <td>426</td>\n",
       "    </tr>\n",
       "    <tr>\n",
       "      <th>top</th>\n",
       "      <td>Thank you.</td>\n",
       "      <td>13</td>\n",
       "    </tr>\n",
       "    <tr>\n",
       "      <th>freq</th>\n",
       "      <td>15</td>\n",
       "      <td>16021</td>\n",
       "    </tr>\n",
       "  </tbody>\n",
       "</table>\n",
       "</div>"
      ],
      "text/plain": [
       "              text      l\n",
       "count        54263  54263\n",
       "unique       53994    426\n",
       "top     Thank you.     13\n",
       "freq            15  16021"
      ]
     },
     "execution_count": 92,
     "metadata": {},
     "output_type": "execute_result"
    }
   ],
   "source": [
    "df.describe()"
   ]
  },
  {
   "cell_type": "code",
   "execution_count": 93,
   "metadata": {},
   "outputs": [
    {
     "data": {
      "text/plain": [
       "13          16021\n",
       "0            6951\n",
       "8            4745\n",
       "1            3074\n",
       "6            2690\n",
       "            ...  \n",
       "1,7,10          1\n",
       "0,10,4,8        1\n",
       "6,6,13          1\n",
       "0,5,2           1\n",
       "10,11,3         1\n",
       "Name: l, Length: 426, dtype: int64"
      ]
     },
     "execution_count": 93,
     "metadata": {},
     "output_type": "execute_result"
    }
   ],
   "source": [
    "value_counts = df['l'].value_counts()\n",
    "value_counts"
   ]
  },
  {
   "cell_type": "code",
   "execution_count": 94,
   "metadata": {},
   "outputs": [
    {
     "data": {
      "image/png": "[encoded data removed]",
      "text/plain": [
       "<Figure size 640x480 with 1 Axes>"
      ]
     },
     "metadata": {},
     "output_type": "display_data"
    }
   ],
   "source": [
    "value_counts = df['l'].value_counts().head(15)\n",
    "plt.bar(value_counts.index, value_counts.values, color=['violet', 'indigo', 'blue', 'green', 'yellow', 'orange' ,'red', 'pink','brown','black'])\n",
    "\n",
    "plt.xlabel('Label')\n",
    "plt.ylabel('Frequency')\n",
    "plt.title('Bar Plot for top 15 ferquent labels')\n",
    "\n",
    "plt.show()"
   ]
  },
  {
   "cell_type": "markdown",
   "metadata": {
    "id": "bZzXsd6aC8v2"
   },
   "source": [
    "## Data Pre-processing"
   ]
  },
  {
   "cell_type": "code",
   "execution_count": 95,
   "metadata": {
    "id": "uHD4HXyFvsJj"
   },
   "outputs": [],
   "source": [
    "df['text']=df['text'].str.lower()"
   ]
  },
  {
   "cell_type": "code",
   "execution_count": 96,
   "metadata": {},
   "outputs": [
    {
     "data": {
      "text/html": [
       "<div>\n",
       "<style scoped>\n",
       "    .dataframe tbody tr th:only-of-type {\n",
       "        vertical-align: middle;\n",
       "    }\n",
       "\n",
       "    .dataframe tbody tr th {\n",
       "        vertical-align: top;\n",
       "    }\n",
       "\n",
       "    .dataframe thead th {\n",
       "        text-align: right;\n",
       "    }\n",
       "</style>\n",
       "<table border=\"1\" class=\"dataframe\">\n",
       "  <thead>\n",
       "    <tr style=\"text-align: right;\">\n",
       "      <th></th>\n",
       "      <th>text</th>\n",
       "      <th>l</th>\n",
       "    </tr>\n",
       "  </thead>\n",
       "  <tbody>\n",
       "    <tr>\n",
       "      <th>0</th>\n",
       "      <td>my favourite food is anything i didn't have to...</td>\n",
       "      <td>13</td>\n",
       "    </tr>\n",
       "    <tr>\n",
       "      <th>1</th>\n",
       "      <td>now if he does off himself, everyone will thin...</td>\n",
       "      <td>13</td>\n",
       "    </tr>\n",
       "    <tr>\n",
       "      <th>2</th>\n",
       "      <td>why the fuck is bayless isoing</td>\n",
       "      <td>1</td>\n",
       "    </tr>\n",
       "    <tr>\n",
       "      <th>3</th>\n",
       "      <td>to make her feel threatened</td>\n",
       "      <td>7</td>\n",
       "    </tr>\n",
       "    <tr>\n",
       "      <th>4</th>\n",
       "      <td>dirty southern wankers</td>\n",
       "      <td>1</td>\n",
       "    </tr>\n",
       "    <tr>\n",
       "      <th>...</th>\n",
       "      <td>...</td>\n",
       "      <td>...</td>\n",
       "    </tr>\n",
       "    <tr>\n",
       "      <th>54258</th>\n",
       "      <td>thanks. i was diagnosed with bp 1 after the ho...</td>\n",
       "      <td>8</td>\n",
       "    </tr>\n",
       "    <tr>\n",
       "      <th>54259</th>\n",
       "      <td>well that makes sense.</td>\n",
       "      <td>8</td>\n",
       "    </tr>\n",
       "    <tr>\n",
       "      <th>54260</th>\n",
       "      <td>daddy issues [name]</td>\n",
       "      <td>13</td>\n",
       "    </tr>\n",
       "    <tr>\n",
       "      <th>54261</th>\n",
       "      <td>so glad i discovered that subreddit a couple m...</td>\n",
       "      <td>0</td>\n",
       "    </tr>\n",
       "    <tr>\n",
       "      <th>54262</th>\n",
       "      <td>had to watch \"elmo in grouchland\" one time too...</td>\n",
       "      <td>13</td>\n",
       "    </tr>\n",
       "  </tbody>\n",
       "</table>\n",
       "<p>54263 rows × 2 columns</p>\n",
       "</div>"
      ],
      "text/plain": [
       "                                                    text   l\n",
       "0      my favourite food is anything i didn't have to...  13\n",
       "1      now if he does off himself, everyone will thin...  13\n",
       "2                         why the fuck is bayless isoing   1\n",
       "3                            to make her feel threatened   7\n",
       "4                                 dirty southern wankers   1\n",
       "...                                                  ...  ..\n",
       "54258  thanks. i was diagnosed with bp 1 after the ho...   8\n",
       "54259                             well that makes sense.   8\n",
       "54260                                daddy issues [name]  13\n",
       "54261  so glad i discovered that subreddit a couple m...   0\n",
       "54262  had to watch \"elmo in grouchland\" one time too...  13\n",
       "\n",
       "[54263 rows x 2 columns]"
      ]
     },
     "execution_count": 96,
     "metadata": {},
     "output_type": "execute_result"
    }
   ],
   "source": [
    "df"
   ]
  },
  {
   "cell_type": "code",
   "execution_count": 97,
   "metadata": {
    "id": "3Nqzx1QMw8UM"
   },
   "outputs": [],
   "source": [
    "def remove_url(txt):\n",
    "    pattern = re.compile(r'https?://\\S+|www\\.\\S+')\n",
    "    return pattern.sub(r'', txt)\n"
   ]
  },
  {
   "cell_type": "code",
   "execution_count": 98,
   "metadata": {
    "id": "m8wPEVbK2kCG"
   },
   "outputs": [],
   "source": [
    "df['text']=df['text'].apply(remove_url)"
   ]
  },
  {
   "cell_type": "code",
   "execution_count": 99,
   "metadata": {
    "id": "svlTDBCR3dSw"
   },
   "outputs": [],
   "source": [
    "exclude=string.punctuation\n",
    "def remove_punc(txt):\n",
    "    return txt.translate(str.maketrans('','',exclude))"
   ]
  },
  {
   "cell_type": "code",
   "execution_count": 100,
   "metadata": {
    "id": "0g-GBaYS3e-2"
   },
   "outputs": [],
   "source": [
    "df['text']=df['text'].apply(remove_punc)"
   ]
  },
  {
   "cell_type": "code",
   "execution_count": 101,
   "metadata": {
    "colab": {
     "base_uri": "https://localhost:8080/"
    },
    "executionInfo": {
     "elapsed": 232,
     "status": "ok",
     "timestamp": 1682172295964,
     "user": {
      "displayName": "Bibas Rai",
      "userId": "14840915709265663697"
     },
     "user_tz": -60
    },
    "id": "Cz7LcartHLhJ",
    "outputId": "4ecdf380-cc6a-4d1d-b47d-4132b87185e0"
   },
   "outputs": [
    {
     "name": "stderr",
     "output_type": "stream",
     "text": [
      "[nltk_data] Downloading package stopwords to\n",
      "[nltk_data]     C:\\Users\\bibas\\AppData\\Roaming\\nltk_data...\n",
      "[nltk_data]   Package stopwords is already up-to-date!\n"
     ]
    },
    {
     "data": {
      "text/plain": [
       "True"
      ]
     },
     "execution_count": 101,
     "metadata": {},
     "output_type": "execute_result"
    }
   ],
   "source": [
    "nltk.download('stopwords')"
   ]
  },
  {
   "cell_type": "code",
   "execution_count": 102,
   "metadata": {
    "id": "YMJS9Q7pB8vE"
   },
   "outputs": [],
   "source": [
    "def remove_stop(txt):\n",
    "    new=[]\n",
    "    for w in txt.split():\n",
    "        if w in stopwords.words('english'):\n",
    "            new.append('')\n",
    "        else:\n",
    "            new.append(w)\n",
    "    x=new[:]\n",
    "    new.clear()\n",
    "    return \" \".join(x)"
   ]
  },
  {
   "cell_type": "code",
   "execution_count": 103,
   "metadata": {
    "id": "VzEFV_CjEteA"
   },
   "outputs": [],
   "source": [
    "df['text']=df['text'].apply(remove_stop) "
   ]
  },
  {
   "cell_type": "code",
   "execution_count": 104,
   "metadata": {},
   "outputs": [
    {
     "data": {
      "text/html": [
       "<div>\n",
       "<style scoped>\n",
       "    .dataframe tbody tr th:only-of-type {\n",
       "        vertical-align: middle;\n",
       "    }\n",
       "\n",
       "    .dataframe tbody tr th {\n",
       "        vertical-align: top;\n",
       "    }\n",
       "\n",
       "    .dataframe thead th {\n",
       "        text-align: right;\n",
       "    }\n",
       "</style>\n",
       "<table border=\"1\" class=\"dataframe\">\n",
       "  <thead>\n",
       "    <tr style=\"text-align: right;\">\n",
       "      <th></th>\n",
       "      <th>text</th>\n",
       "      <th>l</th>\n",
       "    </tr>\n",
       "  </thead>\n",
       "  <tbody>\n",
       "    <tr>\n",
       "      <th>0</th>\n",
       "      <td>favourite food  anything  didnt   cook</td>\n",
       "      <td>13</td>\n",
       "    </tr>\n",
       "    <tr>\n",
       "      <th>1</th>\n",
       "      <td>everyone  think hes   laugh screwing  pe...</td>\n",
       "      <td>13</td>\n",
       "    </tr>\n",
       "    <tr>\n",
       "      <th>2</th>\n",
       "      <td>fuck  bayless isoing</td>\n",
       "      <td>1</td>\n",
       "    </tr>\n",
       "    <tr>\n",
       "      <th>3</th>\n",
       "      <td>make  feel threatened</td>\n",
       "      <td>7</td>\n",
       "    </tr>\n",
       "    <tr>\n",
       "      <th>4</th>\n",
       "      <td>dirty southern wankers</td>\n",
       "      <td>1</td>\n",
       "    </tr>\n",
       "    <tr>\n",
       "      <th>...</th>\n",
       "      <td>...</td>\n",
       "      <td>...</td>\n",
       "    </tr>\n",
       "    <tr>\n",
       "      <th>54258</th>\n",
       "      <td>thanks   diagnosed  bp 1   hospitalization  well</td>\n",
       "      <td>8</td>\n",
       "    </tr>\n",
       "    <tr>\n",
       "      <th>54259</th>\n",
       "      <td>well  makes sense</td>\n",
       "      <td>8</td>\n",
       "    </tr>\n",
       "    <tr>\n",
       "      <th>54260</th>\n",
       "      <td>daddy issues name</td>\n",
       "      <td>13</td>\n",
       "    </tr>\n",
       "    <tr>\n",
       "      <th>54261</th>\n",
       "      <td>glad  discovered  subreddit  couple months ag...</td>\n",
       "      <td>0</td>\n",
       "    </tr>\n",
       "    <tr>\n",
       "      <th>54262</th>\n",
       "      <td>watch elmo  grouchland one time  many   kids...</td>\n",
       "      <td>13</td>\n",
       "    </tr>\n",
       "  </tbody>\n",
       "</table>\n",
       "<p>54263 rows × 2 columns</p>\n",
       "</div>"
      ],
      "text/plain": [
       "                                                    text   l\n",
       "0                favourite food  anything  didnt   cook   13\n",
       "1            everyone  think hes   laugh screwing  pe...  13\n",
       "2                                   fuck  bayless isoing   1\n",
       "3                                  make  feel threatened   7\n",
       "4                                 dirty southern wankers   1\n",
       "...                                                  ...  ..\n",
       "54258   thanks   diagnosed  bp 1   hospitalization  well   8\n",
       "54259                                  well  makes sense   8\n",
       "54260                                  daddy issues name  13\n",
       "54261   glad  discovered  subreddit  couple months ag...   0\n",
       "54262    watch elmo  grouchland one time  many   kids...  13\n",
       "\n",
       "[54263 rows x 2 columns]"
      ]
     },
     "execution_count": 104,
     "metadata": {},
     "output_type": "execute_result"
    }
   ],
   "source": [
    "df"
   ]
  },
  {
   "cell_type": "code",
   "execution_count": 106,
   "metadata": {
    "id": "GsWJsOfvEyqZ"
   },
   "outputs": [],
   "source": [
    "def demoji(txt):\n",
    "    return emoji.demojize(txt)\n"
   ]
  },
  {
   "cell_type": "code",
   "execution_count": 107,
   "metadata": {
    "colab": {
     "base_uri": "https://localhost:8080/",
     "height": 424
    },
    "executionInfo": {
     "elapsed": 250,
     "status": "ok",
     "timestamp": 1682172423863,
     "user": {
      "displayName": "Bibas Rai",
      "userId": "14840915709265663697"
     },
     "user_tz": -60
    },
    "id": "PdpZDYz_JPtP",
    "outputId": "180ad15a-0aeb-4a9e-83f7-f64f358a0a73"
   },
   "outputs": [],
   "source": [
    "df['text']=df['text'].apply(demoji) \n"
   ]
  },
  {
   "cell_type": "code",
   "execution_count": 108,
   "metadata": {
    "id": "z4XymyW_I-c7"
   },
   "outputs": [],
   "source": [
    "ps=PorterStemmer()\n",
    "def stem(txt):\n",
    "    return \" \".join([ps.stem(word) for word in txt.split()])\n",
    "\n",
    "df['text']=df['text'].apply(stem)"
   ]
  },
  {
   "cell_type": "code",
   "execution_count": 109,
   "metadata": {},
   "outputs": [
    {
     "data": {
      "text/html": [
       "<div>\n",
       "<style scoped>\n",
       "    .dataframe tbody tr th:only-of-type {\n",
       "        vertical-align: middle;\n",
       "    }\n",
       "\n",
       "    .dataframe tbody tr th {\n",
       "        vertical-align: top;\n",
       "    }\n",
       "\n",
       "    .dataframe thead th {\n",
       "        text-align: right;\n",
       "    }\n",
       "</style>\n",
       "<table border=\"1\" class=\"dataframe\">\n",
       "  <thead>\n",
       "    <tr style=\"text-align: right;\">\n",
       "      <th></th>\n",
       "      <th>text</th>\n",
       "      <th>l</th>\n",
       "    </tr>\n",
       "  </thead>\n",
       "  <tbody>\n",
       "    <tr>\n",
       "      <th>0</th>\n",
       "      <td>favourit food anyth didnt cook</td>\n",
       "      <td>13</td>\n",
       "    </tr>\n",
       "    <tr>\n",
       "      <th>1</th>\n",
       "      <td>everyon think he laugh screw peopl instead act...</td>\n",
       "      <td>13</td>\n",
       "    </tr>\n",
       "    <tr>\n",
       "      <th>2</th>\n",
       "      <td>fuck bayless iso</td>\n",
       "      <td>1</td>\n",
       "    </tr>\n",
       "    <tr>\n",
       "      <th>3</th>\n",
       "      <td>make feel threaten</td>\n",
       "      <td>7</td>\n",
       "    </tr>\n",
       "    <tr>\n",
       "      <th>4</th>\n",
       "      <td>dirti southern wanker</td>\n",
       "      <td>1</td>\n",
       "    </tr>\n",
       "    <tr>\n",
       "      <th>5</th>\n",
       "      <td>omg peyton isnt good enough help us playoff du...</td>\n",
       "      <td>0</td>\n",
       "    </tr>\n",
       "    <tr>\n",
       "      <th>6</th>\n",
       "      <td>ye heard abt f bomb thank repli hubbi anxious ...</td>\n",
       "      <td>8</td>\n",
       "    </tr>\n",
       "    <tr>\n",
       "      <th>7</th>\n",
       "      <td>need board creat bit space name we’ll good</td>\n",
       "      <td>4,3</td>\n",
       "    </tr>\n",
       "    <tr>\n",
       "      <th>8</th>\n",
       "      <td>damn youtub outrag drama super lucr reddit</td>\n",
       "      <td>0</td>\n",
       "    </tr>\n",
       "    <tr>\n",
       "      <th>9</th>\n",
       "      <td>might link trust factor friend</td>\n",
       "      <td>13</td>\n",
       "    </tr>\n",
       "  </tbody>\n",
       "</table>\n",
       "</div>"
      ],
      "text/plain": [
       "                                                text    l\n",
       "0                     favourit food anyth didnt cook   13\n",
       "1  everyon think he laugh screw peopl instead act...   13\n",
       "2                                   fuck bayless iso    1\n",
       "3                                 make feel threaten    7\n",
       "4                              dirti southern wanker    1\n",
       "5  omg peyton isnt good enough help us playoff du...    0\n",
       "6  ye heard abt f bomb thank repli hubbi anxious ...    8\n",
       "7         need board creat bit space name we’ll good  4,3\n",
       "8         damn youtub outrag drama super lucr reddit    0\n",
       "9                     might link trust factor friend   13"
      ]
     },
     "execution_count": 109,
     "metadata": {},
     "output_type": "execute_result"
    }
   ],
   "source": [
    "df.head(10)"
   ]
  },
  {
   "cell_type": "markdown",
   "metadata": {},
   "source": [
    "## Exp. 1 - Model comparison\n"
   ]
  },
  {
   "cell_type": "markdown",
   "metadata": {},
   "source": [
    "### Naive Bayes"
   ]
  },
  {
   "cell_type": "code",
   "execution_count": 124,
   "metadata": {},
   "outputs": [],
   "source": [
    "x=df['text']\n",
    "y=df['l']"
   ]
  },
  {
   "cell_type": "code",
   "execution_count": 125,
   "metadata": {},
   "outputs": [],
   "source": [
    "from sklearn.naive_bayes import MultinomialNB\n",
    "from sklearn.feature_extraction.text import TfidfVectorizer\n",
    "from sklearn.metrics import accuracy_score\n",
    "from sklearn.model_selection import train_test_split\n"
   ]
  },
  {
   "cell_type": "code",
   "execution_count": 126,
   "metadata": {},
   "outputs": [
    {
     "name": "stdout",
     "output_type": "stream",
     "text": [
      "\n",
      " the total number of Training Data : (32557,)\n",
      "\n",
      " the total number of Test Data : (21706,)\n"
     ]
    }
   ],
   "source": [
    "X_train, X_test, y_train, y_test = train_test_split(x, y, test_size=0.4, random_state=42)\n",
    "print ('\\n the total number of Training Data :',y_train.shape)\n",
    "print ('\\n the total number of Test Data :',y_test.shape)\n"
   ]
  },
  {
   "cell_type": "code",
   "execution_count": 127,
   "metadata": {},
   "outputs": [],
   "source": [
    "vectorizer = TfidfVectorizer(stop_words='english', max_features=30)"
   ]
  },
  {
   "cell_type": "code",
   "execution_count": 128,
   "metadata": {},
   "outputs": [
    {
     "name": "stdout",
     "output_type": "stream",
     "text": [
      "\n",
      " the total number of Training Data : (32557, 30)\n",
      "\n",
      " the total number of Test Data : (21706, 30)\n"
     ]
    }
   ],
   "source": [
    "X_train_transformed = vectorizer.fit_transform(X_train)\n",
    "X_test_transformed = vectorizer.transform(X_test)\n",
    "print ('\\n the total number of Training Data :',X_train_transformed.shape)\n",
    "print ('\\n the total number of Test Data :',X_test_transformed.shape)"
   ]
  },
  {
   "cell_type": "code",
   "execution_count": 129,
   "metadata": {},
   "outputs": [],
   "source": [
    "clf = MultinomialNB()"
   ]
  },
  {
   "cell_type": "code",
   "execution_count": 130,
   "metadata": {},
   "outputs": [
    {
     "data": {
      "text/html": [
       "<style>#sk-container-id-5 {color: black;background-color: white;}#sk-container-id-5 pre{padding: 0;}#sk-container-id-5 div.sk-toggleable {background-color: white;}#sk-container-id-5 label.sk-toggleable__label {cursor: pointer;display: block;width: 100%;margin-bottom: 0;padding: 0.3em;box-sizing: border-box;text-align: center;}#sk-container-id-5 label.sk-toggleable__label-arrow:before {content: \"▸\";float: left;margin-right: 0.25em;color: #696969;}#sk-container-id-5 label.sk-toggleable__label-arrow:hover:before {color: black;}#sk-container-id-5 div.sk-estimator:hover label.sk-toggleable__label-arrow:before {color: black;}#sk-container-id-5 div.sk-toggleable__content {max-height: 0;max-width: 0;overflow: hidden;text-align: left;background-color: #f0f8ff;}#sk-container-id-5 div.sk-toggleable__content pre {margin: 0.2em;color: black;border-radius: 0.25em;background-color: #f0f8ff;}#sk-container-id-5 input.sk-toggleable__control:checked~div.sk-toggleable__content {max-height: 200px;max-width: 100%;overflow: auto;}#sk-container-id-5 input.sk-toggleable__control:checked~label.sk-toggleable__label-arrow:before {content: \"▾\";}#sk-container-id-5 div.sk-estimator input.sk-toggleable__control:checked~label.sk-toggleable__label {background-color: #d4ebff;}#sk-container-id-5 div.sk-label input.sk-toggleable__control:checked~label.sk-toggleable__label {background-color: #d4ebff;}#sk-container-id-5 input.sk-hidden--visually {border: 0;clip: rect(1px 1px 1px 1px);clip: rect(1px, 1px, 1px, 1px);height: 1px;margin: -1px;overflow: hidden;padding: 0;position: absolute;width: 1px;}#sk-container-id-5 div.sk-estimator {font-family: monospace;background-color: #f0f8ff;border: 1px dotted black;border-radius: 0.25em;box-sizing: border-box;margin-bottom: 0.5em;}#sk-container-id-5 div.sk-estimator:hover {background-color: #d4ebff;}#sk-container-id-5 div.sk-parallel-item::after {content: \"\";width: 100%;border-bottom: 1px solid gray;flex-grow: 1;}#sk-container-id-5 div.sk-label:hover label.sk-toggleable__label {background-color: #d4ebff;}#sk-container-id-5 div.sk-serial::before {content: \"\";position: absolute;border-left: 1px solid gray;box-sizing: border-box;top: 0;bottom: 0;left: 50%;z-index: 0;}#sk-container-id-5 div.sk-serial {display: flex;flex-direction: column;align-items: center;background-color: white;padding-right: 0.2em;padding-left: 0.2em;position: relative;}#sk-container-id-5 div.sk-item {position: relative;z-index: 1;}#sk-container-id-5 div.sk-parallel {display: flex;align-items: stretch;justify-content: center;background-color: white;position: relative;}#sk-container-id-5 div.sk-item::before, #sk-container-id-5 div.sk-parallel-item::before {content: \"\";position: absolute;border-left: 1px solid gray;box-sizing: border-box;top: 0;bottom: 0;left: 50%;z-index: -1;}#sk-container-id-5 div.sk-parallel-item {display: flex;flex-direction: column;z-index: 1;position: relative;background-color: white;}#sk-container-id-5 div.sk-parallel-item:first-child::after {align-self: flex-end;width: 50%;}#sk-container-id-5 div.sk-parallel-item:last-child::after {align-self: flex-start;width: 50%;}#sk-container-id-5 div.sk-parallel-item:only-child::after {width: 0;}#sk-container-id-5 div.sk-dashed-wrapped {border: 1px dashed gray;margin: 0 0.4em 0.5em 0.4em;box-sizing: border-box;padding-bottom: 0.4em;background-color: white;}#sk-container-id-5 div.sk-label label {font-family: monospace;font-weight: bold;display: inline-block;line-height: 1.2em;}#sk-container-id-5 div.sk-label-container {text-align: center;}#sk-container-id-5 div.sk-container {/* jupyter's `normalize.less` sets `[hidden] { display: none; }` but bootstrap.min.css set `[hidden] { display: none !important; }` so we also need the `!important` here to be able to override the default hidden behavior on the sphinx rendered scikit-learn.org. See: https://github.com/scikit-learn/scikit-learn/issues/21755 */display: inline-block !important;position: relative;}#sk-container-id-5 div.sk-text-repr-fallback {display: none;}</style><div id=\"sk-container-id-5\" class=\"sk-top-container\"><div class=\"sk-text-repr-fallback\"><pre>MultinomialNB()</pre><b>In a Jupyter environment, please rerun this cell to show the HTML representation or trust the notebook. <br />On GitHub, the HTML representation is unable to render, please try loading this page with nbviewer.org.</b></div><div class=\"sk-container\" hidden><div class=\"sk-item\"><div class=\"sk-estimator sk-toggleable\"><input class=\"sk-toggleable__control sk-hidden--visually\" id=\"sk-estimator-id-5\" type=\"checkbox\" checked><label for=\"sk-estimator-id-5\" class=\"sk-toggleable__label sk-toggleable__label-arrow\">MultinomialNB</label><div class=\"sk-toggleable__content\"><pre>MultinomialNB()</pre></div></div></div></div></div>"
      ],
      "text/plain": [
       "MultinomialNB()"
      ]
     },
     "execution_count": 130,
     "metadata": {},
     "output_type": "execute_result"
    }
   ],
   "source": [
    "clf.fit(X_train_transformed, y_train)"
   ]
  },
  {
   "cell_type": "code",
   "execution_count": 131,
   "metadata": {},
   "outputs": [],
   "source": [
    "y_pred = clf.predict(X_test_transformed)"
   ]
  },
  {
   "cell_type": "code",
   "execution_count": 132,
   "metadata": {},
   "outputs": [
    {
     "name": "stdout",
     "output_type": "stream",
     "text": [
      "Accuracy: 0.37538007924076294\n"
     ]
    }
   ],
   "source": [
    "accuracy = accuracy_score(y_test, y_pred)\n",
    "print(\"Accuracy:\", accuracy)"
   ]
  },
  {
   "cell_type": "code",
   "execution_count": 133,
   "metadata": {},
   "outputs": [
    {
     "name": "stderr",
     "output_type": "stream",
     "text": [
      "C:\\Users\\bibas\\anaconda3\\lib\\site-packages\\sklearn\\metrics\\_classification.py:1396: UserWarning: Note that pos_label (set to 'positive') is ignored when average != 'binary' (got 'micro'). You may use labels=[pos_label] to specify a single positive class.\n",
      "  warnings.warn(\n",
      "C:\\Users\\bibas\\anaconda3\\lib\\site-packages\\sklearn\\metrics\\_classification.py:1344: UndefinedMetricWarning: Precision and F-score are ill-defined and being set to 0.0 in labels with no predicted samples. Use `zero_division` parameter to control this behavior.\n",
      "  _warn_prf(average, modifier, msg_start, len(result))\n",
      "C:\\Users\\bibas\\anaconda3\\lib\\site-packages\\sklearn\\metrics\\_classification.py:1344: UndefinedMetricWarning: Precision and F-score are ill-defined and being set to 0.0 in labels with no predicted samples. Use `zero_division` parameter to control this behavior.\n",
      "  _warn_prf(average, modifier, msg_start, len(result))\n",
      "C:\\Users\\bibas\\anaconda3\\lib\\site-packages\\sklearn\\metrics\\_classification.py:1344: UndefinedMetricWarning: Precision and F-score are ill-defined and being set to 0.0 in labels with no predicted samples. Use `zero_division` parameter to control this behavior.\n",
      "  _warn_prf(average, modifier, msg_start, len(result))\n",
      "C:\\Users\\bibas\\anaconda3\\lib\\site-packages\\sklearn\\metrics\\_classification.py:1396: UserWarning: Note that pos_label (set to 'positive') is ignored when average != 'binary' (got 'micro'). You may use labels=[pos_label] to specify a single positive class.\n",
      "  warnings.warn(\n",
      "C:\\Users\\bibas\\anaconda3\\lib\\site-packages\\sklearn\\metrics\\_classification.py:1396: UserWarning: Note that pos_label (set to 'positive') is ignored when average != 'binary' (got 'micro'). You may use labels=[pos_label] to specify a single positive class.\n",
      "  warnings.warn(\n"
     ]
    },
    {
     "name": "stdout",
     "output_type": "stream",
     "text": [
      "Classification report:\n",
      "               precision    recall  f1-score   support\n",
      "\n",
      "           0       0.50      0.19      0.27      2713\n",
      "         0,0       0.00      0.00      0.00       104\n",
      "       0,0,0       0.00      0.00      0.00         3\n",
      "      0,0,11       0.00      0.00      0.00         6\n",
      "      0,0,13       0.00      0.00      0.00         1\n",
      "       0,0,2       0.00      0.00      0.00         2\n",
      "       0,0,3       0.00      0.00      0.00         4\n",
      "       0,0,5       0.00      0.00      0.00         1\n",
      "       0,0,8       0.00      0.00      0.00         3\n",
      "         0,1       0.00      0.00      0.00        38\n",
      "       0,1,1       0.00      0.00      0.00         1\n",
      "    0,1,2,11       0.00      0.00      0.00         1\n",
      "       0,1,3       0.00      0.00      0.00         1\n",
      "       0,1,6       0.00      0.00      0.00         2\n",
      "       0,1,8       0.00      0.00      0.00         1\n",
      "        0,10       0.00      0.00      0.00        40\n",
      "     0,10,11       0.00      0.00      0.00         1\n",
      "   0,10,4,10       0.00      0.00      0.00         1\n",
      "   0,10,4,11       0.00      0.00      0.00         1\n",
      "    0,10,4,8       0.00      0.00      0.00         1\n",
      "      0,10,6       0.00      0.00      0.00         1\n",
      "      0,10,8       0.00      0.00      0.00         2\n",
      "        0,11       0.00      0.00      0.00       109\n",
      "      0,11,0       0.00      0.00      0.00         1\n",
      "     0,11,12       0.00      0.00      0.00         2\n",
      "     0,11,13       0.00      0.00      0.00         1\n",
      "      0,11,2       0.00      0.00      0.00         3\n",
      "    0,11,2,3       0.00      0.00      0.00         1\n",
      "      0,11,3       0.00      0.00      0.00         1\n",
      "        0,12       0.00      0.00      0.00        12\n",
      "        0,13       0.00      0.00      0.00        83\n",
      "         0,2       0.00      0.00      0.00       126\n",
      "      0,2,10       0.00      0.00      0.00         1\n",
      "      0,2,13       0.00      0.00      0.00         1\n",
      "       0,2,2       0.00      0.00      0.00         1\n",
      "       0,2,3       0.00      0.00      0.00         4\n",
      "         0,3       0.00      0.00      0.00        96\n",
      "       0,3,0       0.00      0.00      0.00         1\n",
      "      0,3,10       0.00      0.00      0.00         1\n",
      "      0,3,12       0.00      0.00      0.00         1\n",
      "      0,3,13       0.00      0.00      0.00         1\n",
      "         0,4       0.00      0.00      0.00        53\n",
      "       0,4,0       0.00      0.00      0.00         1\n",
      "      0,4,10       0.00      0.00      0.00         1\n",
      "      0,4,11       0.00      0.00      0.00         2\n",
      "       0,4,2       0.00      0.00      0.00         3\n",
      "       0,4,3       0.00      0.00      0.00         5\n",
      "       0,4,8       0.00      0.00      0.00         2\n",
      "         0,5       0.00      0.00      0.00        13\n",
      "       0,5,3       0.00      0.00      0.00         1\n",
      "       0,5,6       0.00      0.00      0.00         1\n",
      "       0,5,8       0.00      0.00      0.00         1\n",
      "         0,6       0.00      0.00      0.00        33\n",
      "       0,6,0       0.00      0.00      0.00         1\n",
      "     0,6,0,0       0.00      0.00      0.00         1\n",
      "       0,6,2       0.00      0.00      0.00         2\n",
      "       0,6,3       0.00      0.00      0.00         4\n",
      "       0,6,7       0.00      0.00      0.00         1\n",
      "       0,6,8       0.00      0.00      0.00         2\n",
      "     0,6,8,3       0.00      0.00      0.00         1\n",
      "         0,7       0.00      0.00      0.00         8\n",
      "       0,7,0       0.00      0.00      0.00         1\n",
      "      0,7,10       0.00      0.00      0.00         1\n",
      "         0,8       0.00      0.00      0.00       264\n",
      "       0,8,0       0.00      0.00      0.00         5\n",
      "    0,8,0,11       0.00      0.00      0.00         1\n",
      "      0,8,10       0.00      0.00      0.00         1\n",
      "      0,8,11       0.00      0.00      0.00        14\n",
      "    0,8,11,3       0.00      0.00      0.00         1\n",
      "       0,8,2       0.00      0.00      0.00         9\n",
      "       0,8,3       0.00      0.00      0.00        16\n",
      "       0,8,4       0.00      0.00      0.00         1\n",
      "     0,8,4,0       0.00      0.00      0.00         1\n",
      "       0,8,5       0.00      0.00      0.00         2\n",
      "       0,8,7       0.00      0.00      0.00         1\n",
      "       0,8,8       0.00      0.00      0.00         3\n",
      "      0,9,10       0.00      0.00      0.00         1\n",
      "           1       0.00      0.00      0.00      1212\n",
      "         1,0       0.00      0.00      0.00         5\n",
      "         1,1       0.00      0.00      0.00       124\n",
      "      1,1,13       0.00      0.00      0.00         1\n",
      "       1,1,5       0.00      0.00      0.00         6\n",
      "       1,1,6       0.00      0.00      0.00         7\n",
      "     1,1,6,6       0.00      0.00      0.00         1\n",
      "       1,1,8       0.00      0.00      0.00         1\n",
      "        1,10       0.00      0.00      0.00        31\n",
      "      1,10,3       0.00      0.00      0.00         1\n",
      "      1,10,6       0.00      0.00      0.00         1\n",
      "      1,10,7       0.00      0.00      0.00         1\n",
      "        1,11       0.00      0.00      0.00         2\n",
      "        1,12       0.00      0.00      0.00         1\n",
      "        1,13       0.00      0.00      0.00        98\n",
      "         1,2       0.00      0.00      0.00        18\n",
      "      1,2,13       0.00      0.00      0.00         1\n",
      "       1,2,3       0.00      0.00      0.00         1\n",
      "         1,3       0.00      0.00      0.00        31\n",
      "         1,4       0.00      0.00      0.00        32\n",
      "       1,4,3       0.00      0.00      0.00         2\n",
      "       1,4,6       0.00      0.00      0.00         1\n",
      "         1,5       0.00      0.00      0.00        56\n",
      "      1,5,10       0.00      0.00      0.00         4\n",
      "       1,5,6       0.00      0.00      0.00         7\n",
      "       1,5,7       0.00      0.00      0.00         1\n",
      "       1,5,9       0.00      0.00      0.00         1\n",
      "         1,6       0.00      0.00      0.00       144\n",
      "      1,6,10       0.00      0.00      0.00         1\n",
      "      1,6,13       0.00      0.00      0.00         1\n",
      "       1,6,6       0.00      0.00      0.00         7\n",
      "       1,6,7       0.00      0.00      0.00         1\n",
      "       1,6,8       0.00      0.00      0.00         1\n",
      "         1,7       0.00      0.00      0.00         8\n",
      "         1,8       0.00      0.00      0.00        34\n",
      "       1,8,2       0.00      0.00      0.00         1\n",
      "       1,8,3       0.00      0.00      0.00         2\n",
      "       1,8,4       0.00      0.00      0.00         1\n",
      "          10       0.00      0.00      0.00       993\n",
      "        10,0       0.00      0.00      0.00        15\n",
      "       10,10       0.00      0.00      0.00        19\n",
      "       10,13       0.00      0.00      0.00        66\n",
      "        10,2       0.00      0.00      0.00         3\n",
      "     10,2,10       0.00      0.00      0.00         1\n",
      "      10,2,3       0.00      0.00      0.00         1\n",
      "        10,3       0.00      0.00      0.00        10\n",
      "     10,3,13       0.00      0.00      0.00         1\n",
      "        10,4       0.00      0.00      0.00        79\n",
      "      10,4,0       0.00      0.00      0.00         1\n",
      "     10,4,13       0.00      0.00      0.00         6\n",
      "      10,4,3       0.00      0.00      0.00         2\n",
      "      10,4,5       0.00      0.00      0.00         3\n",
      "    10,4,5,0       0.00      0.00      0.00         1\n",
      "      10,4,6       0.00      0.00      0.00         1\n",
      "      10,4,7       0.00      0.00      0.00         2\n",
      "      10,4,8       0.00      0.00      0.00         1\n",
      "        10,5       0.00      0.00      0.00         5\n",
      "        10,6       0.00      0.00      0.00         9\n",
      "     10,6,10       0.00      0.00      0.00         1\n",
      "     10,6,13       0.00      0.00      0.00         1\n",
      "        10,7       0.00      0.00      0.00         1\n",
      "      10,7,0       0.00      0.00      0.00         1\n",
      "        10,8       0.00      0.00      0.00         8\n",
      "      10,8,0       0.00      0.00      0.00         1\n",
      "      10,8,3       0.00      0.00      0.00         1\n",
      "          11       0.00      0.00      0.00       422\n",
      "        11,0       0.00      0.00      0.00         4\n",
      "       11,10       0.00      0.00      0.00         5\n",
      "       11,12       0.00      0.00      0.00         3\n",
      "       11,13       0.00      0.00      0.00        17\n",
      "        11,2       0.00      0.00      0.00        26\n",
      "        11,3       0.00      0.00      0.00        18\n",
      "          12       0.00      0.00      0.00        32\n",
      "       12,13       0.00      0.00      0.00         1\n",
      "          13       0.34      0.98      0.50      6386\n",
      "           2       0.58      0.40      0.48      1056\n",
      "         2,0       0.00      0.00      0.00         3\n",
      "        2,10       0.00      0.00      0.00        19\n",
      "     2,10,10       0.00      0.00      0.00         1\n",
      "        2,11       0.00      0.00      0.00        10\n",
      "      2,11,3       0.00      0.00      0.00         1\n",
      "        2,13       0.00      0.00      0.00        41\n",
      "         2,2       0.00      0.00      0.00        12\n",
      "         2,3       0.00      0.00      0.00        54\n",
      "      2,3,10       0.00      0.00      0.00         2\n",
      "       2,3,3       0.00      0.00      0.00         1\n",
      "         2,4       0.00      0.00      0.00         6\n",
      "       2,4,3       0.00      0.00      0.00         2\n",
      "       2,4,6       0.00      0.00      0.00         1\n",
      "         2,5       0.00      0.00      0.00         2\n",
      "      2,5,10       0.00      0.00      0.00         3\n",
      "       2,5,3       0.00      0.00      0.00         1\n",
      "         2,6       0.00      0.00      0.00         7\n",
      "      2,6,11       0.00      0.00      0.00         1\n",
      "         2,7       0.00      0.00      0.00         6\n",
      "         2,8       0.00      0.00      0.00         7\n",
      "       2,8,3       0.00      0.00      0.00         1\n",
      "         2,9       0.00      0.00      0.00         2\n",
      "      2,9,10       0.00      0.00      0.00         1\n",
      "           3       0.54      0.24      0.33       753\n",
      "         3,0       0.00      0.00      0.00        18\n",
      "        3,10       0.00      0.00      0.00        25\n",
      "        3,12       0.00      0.00      0.00         2\n",
      "        3,13       0.00      0.00      0.00        75\n",
      "         3,3       0.00      0.00      0.00        16\n",
      "      3,3,10       0.00      0.00      0.00         1\n",
      "           4       0.00      0.00      0.00       896\n",
      "         4,0       0.00      0.00      0.00        34\n",
      "       4,0,0       0.00      0.00      0.00         1\n",
      "      4,0,11       0.00      0.00      0.00         3\n",
      "       4,0,3       0.00      0.00      0.00         2\n",
      "        4,10       0.00      0.00      0.00        18\n",
      "        4,11       0.00      0.00      0.00         6\n",
      "      4,11,2       0.00      0.00      0.00         1\n",
      "        4,13       0.00      0.00      0.00        70\n",
      "         4,2       0.00      0.00      0.00        24\n",
      "       4,2,0       0.00      0.00      0.00         1\n",
      "      4,2,10       0.00      0.00      0.00         1\n",
      "       4,2,3       0.00      0.00      0.00         1\n",
      "         4,3       0.00      0.00      0.00        53\n",
      "       4,3,3       0.00      0.00      0.00         1\n",
      "         4,4       0.00      0.00      0.00         6\n",
      "       4,4,0       0.00      0.00      0.00         1\n",
      "         4,5       0.00      0.00      0.00         8\n",
      "      4,5,10       0.00      0.00      0.00         2\n",
      "   4,5,10,10       0.00      0.00      0.00         1\n",
      "       4,5,3       0.00      0.00      0.00         1\n",
      "         4,6       0.00      0.00      0.00        25\n",
      "      4,6,10       0.00      0.00      0.00         3\n",
      "      4,6,11       0.00      0.00      0.00         1\n",
      "       4,6,2       0.00      0.00      0.00         1\n",
      "       4,6,3       0.00      0.00      0.00         1\n",
      "       4,6,6       0.00      0.00      0.00         1\n",
      "       4,6,8       0.00      0.00      0.00         1\n",
      "         4,7       0.00      0.00      0.00         5\n",
      "      4,7,10       0.00      0.00      0.00         1\n",
      "         4,8       0.00      0.00      0.00        15\n",
      "       4,8,3       0.00      0.00      0.00         2\n",
      "         4,9       0.00      0.00      0.00         1\n",
      "           5       0.00      0.00      0.00       366\n",
      "         5,0       0.00      0.00      0.00         5\n",
      "        5,10       0.00      0.00      0.00        68\n",
      "     5,10,10       0.00      0.00      0.00         1\n",
      "     5,10,13       0.00      0.00      0.00         2\n",
      "        5,11       0.00      0.00      0.00         2\n",
      "   5,11,2,10       0.00      0.00      0.00         1\n",
      "        5,13       0.00      0.00      0.00        35\n",
      "         5,2       0.00      0.00      0.00         5\n",
      "         5,3       0.00      0.00      0.00        17\n",
      "      5,3,10       0.00      0.00      0.00         2\n",
      "         5,6       0.00      0.00      0.00        29\n",
      "      5,6,10       0.00      0.00      0.00         1\n",
      "  5,6,7,7,10       0.00      0.00      0.00         1\n",
      "         5,7       0.00      0.00      0.00         3\n",
      "         5,8       0.00      0.00      0.00         4\n",
      "         5,9       0.00      0.00      0.00         1\n",
      "           6       0.00      0.00      0.00      1067\n",
      "         6,0       0.00      0.00      0.00         7\n",
      "      6,0,11       0.00      0.00      0.00         1\n",
      "        6,10       0.00      0.00      0.00        24\n",
      "        6,13       0.00      0.00      0.00        78\n",
      "         6,2       0.00      0.00      0.00         7\n",
      "         6,3       0.00      0.00      0.00        36\n",
      "      6,3,10       0.00      0.00      0.00         2\n",
      "      6,3,12       0.00      0.00      0.00         1\n",
      "         6,6       0.00      0.00      0.00        23\n",
      "      6,6,13       0.00      0.00      0.00         1\n",
      "         6,7       0.00      0.00      0.00         5\n",
      "       6,7,3       0.00      0.00      0.00         2\n",
      "         6,8       0.00      0.00      0.00         7\n",
      "         6,9       0.00      0.00      0.00         1\n",
      "           7       0.00      0.00      0.00       257\n",
      "         7,0       0.00      0.00      0.00         1\n",
      "        7,10       0.00      0.00      0.00         8\n",
      "        7,11       0.00      0.00      0.00         1\n",
      "      7,11,7       0.00      0.00      0.00         1\n",
      "        7,13       0.00      0.00      0.00        14\n",
      "         7,2       0.00      0.00      0.00         2\n",
      "         7,3       0.00      0.00      0.00         6\n",
      "      7,3,10       0.00      0.00      0.00         1\n",
      "         7,7       0.00      0.00      0.00        12\n",
      "      7,7,13       0.00      0.00      0.00         1\n",
      "      7,8,10       0.00      0.00      0.00         1\n",
      "           8       0.70      0.42      0.52      1910\n",
      "         8,0       0.00      0.00      0.00        30\n",
      "       8,0,0       0.00      0.00      0.00         1\n",
      "      8,0,13       0.00      0.00      0.00         2\n",
      "       8,0,3       0.00      0.00      0.00         1\n",
      "        8,10       0.00      0.00      0.00        35\n",
      "      8,10,4       0.00      0.00      0.00         1\n",
      "        8,11       0.00      0.00      0.00        36\n",
      "      8,11,3       0.00      0.00      0.00         1\n",
      "        8,12       0.00      0.00      0.00         6\n",
      "        8,13       0.00      0.00      0.00       103\n",
      "         8,2       0.00      0.00      0.00        78\n",
      "       8,2,2       0.00      0.00      0.00         1\n",
      "       8,2,3       0.00      0.00      0.00         2\n",
      "       8,2,4       0.00      0.00      0.00         1\n",
      "         8,3       0.00      0.00      0.00       103\n",
      "       8,3,0       0.00      0.00      0.00         1\n",
      "      8,3,10       0.00      0.00      0.00         1\n",
      "      8,3,12       0.00      0.00      0.00         1\n",
      "      8,3,13       0.00      0.00      0.00         2\n",
      "       8,3,3       0.00      0.00      0.00         1\n",
      "         8,4       0.00      0.00      0.00        22\n",
      "       8,4,2       0.00      0.00      0.00         1\n",
      "       8,4,3       0.00      0.00      0.00         3\n",
      "         8,5       0.00      0.00      0.00         8\n",
      "   8,5,10,13       0.00      0.00      0.00         1\n",
      "       8,5,3       0.00      0.00      0.00         2\n",
      "         8,6       0.00      0.00      0.00        15\n",
      "         8,7       0.00      0.00      0.00         6\n",
      "       8,7,2       0.00      0.00      0.00         1\n",
      "         8,8       0.00      0.00      0.00        32\n",
      "      8,9,10       0.00      0.00      0.00         1\n",
      "           9       0.00      0.00      0.00        25\n",
      "         9,0       0.00      0.00      0.00         1\n",
      "        9,10       0.00      0.00      0.00        13\n",
      "     9,10,10       0.00      0.00      0.00         1\n",
      "        9,13       0.00      0.00      0.00         1\n",
      "         9,2       0.00      0.00      0.00         1\n",
      "\n",
      "    accuracy                           0.38     21706\n",
      "   macro avg       0.01      0.01      0.01     21706\n",
      "weighted avg       0.27      0.38      0.26     21706\n",
      "\n",
      "Accuracy: 0.37538007924076294\n",
      "Precision: 0.37538007924076294\n",
      "Recall: 0.37538007924076294\n",
      "F1 score: 0.37538007924076294\n"
     ]
    }
   ],
   "source": [
    "from sklearn.metrics import confusion_matrix, accuracy_score, precision_score, recall_score, f1_score, classification_report\n",
    "\n",
    "accuracy = accuracy_score(y_test, y_pred)\n",
    "\n",
    "precision=precision_score(y_test, y_pred, \n",
    "                                           pos_label='positive',\n",
    "                                           average='micro')\n",
    "classes = np.unique(y_test)\n",
    "report = classification_report(y_test, y_pred, labels=classes)\n",
    "\n",
    "recall = recall_score(y_test, y_pred, \n",
    "                                           pos_label='positive',\n",
    "                                           average='micro')\n",
    "\n",
    "f1 = f1_score(y_test, y_pred, \n",
    "                                           pos_label='positive',\n",
    "                                           average='micro')\n",
    "\n",
    "print(\"Classification report:\\n\", report)\n",
    "print(\"Accuracy:\", accuracy)\n",
    "print(\"Precision:\", precision)\n",
    "print(\"Recall:\", recall)\n",
    "print(\"F1 score:\", f1)"
   ]
  },
  {
   "cell_type": "markdown",
   "metadata": {},
   "source": [
    "### Support Vector Machine (SVM)"
   ]
  },
  {
   "cell_type": "code",
   "execution_count": 149,
   "metadata": {},
   "outputs": [],
   "source": [
    "from sklearn.feature_extraction.text import TfidfVectorizer\n",
    "from sklearn.model_selection import train_test_split\n",
    "from sklearn import svm\n",
    "from sklearn.metrics import accuracy_score"
   ]
  },
  {
   "cell_type": "code",
   "execution_count": 150,
   "metadata": {},
   "outputs": [],
   "source": [
    "x = df['text']\n",
    "y=df['l']"
   ]
  },
  {
   "cell_type": "code",
   "execution_count": 151,
   "metadata": {},
   "outputs": [
    {
     "name": "stdout",
     "output_type": "stream",
     "text": [
      "\n",
      " the total number of Training Data : (32557,)\n",
      "\n",
      " the total number of Test Data : (21706,)\n"
     ]
    }
   ],
   "source": [
    "X_train, X_test, y_train, y_test = train_test_split(x, y, test_size=0.4, random_state=42)\n",
    "print ('\\n the total number of Training Data :',y_train.shape)\n",
    "print ('\\n the total number of Test Data :',y_test.shape)"
   ]
  },
  {
   "cell_type": "code",
   "execution_count": 152,
   "metadata": {},
   "outputs": [],
   "source": [
    "vectorizer = TfidfVectorizer(max_features=30)\n",
    "X_train = vectorizer.fit_transform(X_train)\n",
    "X_test = vectorizer.transform(X_test)"
   ]
  },
  {
   "cell_type": "code",
   "execution_count": 153,
   "metadata": {},
   "outputs": [
    {
     "data": {
      "text/html": [
       "<style>#sk-container-id-2 {color: black;background-color: white;}#sk-container-id-2 pre{padding: 0;}#sk-container-id-2 div.sk-toggleable {background-color: white;}#sk-container-id-2 label.sk-toggleable__label {cursor: pointer;display: block;width: 100%;margin-bottom: 0;padding: 0.3em;box-sizing: border-box;text-align: center;}#sk-container-id-2 label.sk-toggleable__label-arrow:before {content: \"▸\";float: left;margin-right: 0.25em;color: #696969;}#sk-container-id-2 label.sk-toggleable__label-arrow:hover:before {color: black;}#sk-container-id-2 div.sk-estimator:hover label.sk-toggleable__label-arrow:before {color: black;}#sk-container-id-2 div.sk-toggleable__content {max-height: 0;max-width: 0;overflow: hidden;text-align: left;background-color: #f0f8ff;}#sk-container-id-2 div.sk-toggleable__content pre {margin: 0.2em;color: black;border-radius: 0.25em;background-color: #f0f8ff;}#sk-container-id-2 input.sk-toggleable__control:checked~div.sk-toggleable__content {max-height: 200px;max-width: 100%;overflow: auto;}#sk-container-id-2 input.sk-toggleable__control:checked~label.sk-toggleable__label-arrow:before {content: \"▾\";}#sk-container-id-2 div.sk-estimator input.sk-toggleable__control:checked~label.sk-toggleable__label {background-color: #d4ebff;}#sk-container-id-2 div.sk-label input.sk-toggleable__control:checked~label.sk-toggleable__label {background-color: #d4ebff;}#sk-container-id-2 input.sk-hidden--visually {border: 0;clip: rect(1px 1px 1px 1px);clip: rect(1px, 1px, 1px, 1px);height: 1px;margin: -1px;overflow: hidden;padding: 0;position: absolute;width: 1px;}#sk-container-id-2 div.sk-estimator {font-family: monospace;background-color: #f0f8ff;border: 1px dotted black;border-radius: 0.25em;box-sizing: border-box;margin-bottom: 0.5em;}#sk-container-id-2 div.sk-estimator:hover {background-color: #d4ebff;}#sk-container-id-2 div.sk-parallel-item::after {content: \"\";width: 100%;border-bottom: 1px solid gray;flex-grow: 1;}#sk-container-id-2 div.sk-label:hover label.sk-toggleable__label {background-color: #d4ebff;}#sk-container-id-2 div.sk-serial::before {content: \"\";position: absolute;border-left: 1px solid gray;box-sizing: border-box;top: 0;bottom: 0;left: 50%;z-index: 0;}#sk-container-id-2 div.sk-serial {display: flex;flex-direction: column;align-items: center;background-color: white;padding-right: 0.2em;padding-left: 0.2em;position: relative;}#sk-container-id-2 div.sk-item {position: relative;z-index: 1;}#sk-container-id-2 div.sk-parallel {display: flex;align-items: stretch;justify-content: center;background-color: white;position: relative;}#sk-container-id-2 div.sk-item::before, #sk-container-id-2 div.sk-parallel-item::before {content: \"\";position: absolute;border-left: 1px solid gray;box-sizing: border-box;top: 0;bottom: 0;left: 50%;z-index: -1;}#sk-container-id-2 div.sk-parallel-item {display: flex;flex-direction: column;z-index: 1;position: relative;background-color: white;}#sk-container-id-2 div.sk-parallel-item:first-child::after {align-self: flex-end;width: 50%;}#sk-container-id-2 div.sk-parallel-item:last-child::after {align-self: flex-start;width: 50%;}#sk-container-id-2 div.sk-parallel-item:only-child::after {width: 0;}#sk-container-id-2 div.sk-dashed-wrapped {border: 1px dashed gray;margin: 0 0.4em 0.5em 0.4em;box-sizing: border-box;padding-bottom: 0.4em;background-color: white;}#sk-container-id-2 div.sk-label label {font-family: monospace;font-weight: bold;display: inline-block;line-height: 1.2em;}#sk-container-id-2 div.sk-label-container {text-align: center;}#sk-container-id-2 div.sk-container {/* jupyter's `normalize.less` sets `[hidden] { display: none; }` but bootstrap.min.css set `[hidden] { display: none !important; }` so we also need the `!important` here to be able to override the default hidden behavior on the sphinx rendered scikit-learn.org. See: https://github.com/scikit-learn/scikit-learn/issues/21755 */display: inline-block !important;position: relative;}#sk-container-id-2 div.sk-text-repr-fallback {display: none;}</style><div id=\"sk-container-id-2\" class=\"sk-top-container\"><div class=\"sk-text-repr-fallback\"><pre>SVC(kernel=&#x27;linear&#x27;)</pre><b>In a Jupyter environment, please rerun this cell to show the HTML representation or trust the notebook. <br />On GitHub, the HTML representation is unable to render, please try loading this page with nbviewer.org.</b></div><div class=\"sk-container\" hidden><div class=\"sk-item\"><div class=\"sk-estimator sk-toggleable\"><input class=\"sk-toggleable__control sk-hidden--visually\" id=\"sk-estimator-id-2\" type=\"checkbox\" checked><label for=\"sk-estimator-id-2\" class=\"sk-toggleable__label sk-toggleable__label-arrow\">SVC</label><div class=\"sk-toggleable__content\"><pre>SVC(kernel=&#x27;linear&#x27;)</pre></div></div></div></div></div>"
      ],
      "text/plain": [
       "SVC(kernel='linear')"
      ]
     },
     "execution_count": 153,
     "metadata": {},
     "output_type": "execute_result"
    }
   ],
   "source": [
    "clf = svm.SVC(kernel='linear')\n",
    "clf.fit(X_train, y_train)"
   ]
  },
  {
   "cell_type": "code",
   "execution_count": 154,
   "metadata": {},
   "outputs": [],
   "source": [
    "y_pred = clf.predict(X_test)"
   ]
  },
  {
   "cell_type": "code",
   "execution_count": 155,
   "metadata": {},
   "outputs": [
    {
     "name": "stdout",
     "output_type": "stream",
     "text": [
      "Accuracy: 0.4929051875057588\n"
     ]
    }
   ],
   "source": [
    "accuracy = accuracy_score(y_test, y_pred)\n",
    "print('Accuracy:', accuracy)"
   ]
  },
  {
   "cell_type": "code",
   "execution_count": 158,
   "metadata": {},
   "outputs": [
    {
     "name": "stderr",
     "output_type": "stream",
     "text": [
      "C:\\Users\\bibas\\anaconda3\\lib\\site-packages\\sklearn\\metrics\\_classification.py:1396: UserWarning: Note that pos_label (set to 'positive') is ignored when average != 'binary' (got 'micro'). You may use labels=[pos_label] to specify a single positive class.\n",
      "  warnings.warn(\n",
      "C:\\Users\\bibas\\anaconda3\\lib\\site-packages\\sklearn\\metrics\\_classification.py:1344: UndefinedMetricWarning: Precision and F-score are ill-defined and being set to 0.0 in labels with no predicted samples. Use `zero_division` parameter to control this behavior.\n",
      "  _warn_prf(average, modifier, msg_start, len(result))\n",
      "C:\\Users\\bibas\\anaconda3\\lib\\site-packages\\sklearn\\metrics\\_classification.py:1344: UndefinedMetricWarning: Precision and F-score are ill-defined and being set to 0.0 in labels with no predicted samples. Use `zero_division` parameter to control this behavior.\n",
      "  _warn_prf(average, modifier, msg_start, len(result))\n",
      "C:\\Users\\bibas\\anaconda3\\lib\\site-packages\\sklearn\\metrics\\_classification.py:1344: UndefinedMetricWarning: Precision and F-score are ill-defined and being set to 0.0 in labels with no predicted samples. Use `zero_division` parameter to control this behavior.\n",
      "  _warn_prf(average, modifier, msg_start, len(result))\n",
      "C:\\Users\\bibas\\anaconda3\\lib\\site-packages\\sklearn\\metrics\\_classification.py:1396: UserWarning: Note that pos_label (set to 'positive') is ignored when average != 'binary' (got 'micro'). You may use labels=[pos_label] to specify a single positive class.\n",
      "  warnings.warn(\n",
      "C:\\Users\\bibas\\anaconda3\\lib\\site-packages\\sklearn\\metrics\\_classification.py:1396: UserWarning: Note that pos_label (set to 'positive') is ignored when average != 'binary' (got 'micro'). You may use labels=[pos_label] to specify a single positive class.\n",
      "  warnings.warn(\n"
     ]
    },
    {
     "name": "stdout",
     "output_type": "stream",
     "text": [
      "Classification report:\n",
      "               precision    recall  f1-score   support\n",
      "\n",
      "           0       0.54      0.68      0.60      2713\n",
      "         0,0       0.00      0.00      0.00       104\n",
      "       0,0,0       0.00      0.00      0.00         3\n",
      "      0,0,11       0.00      0.00      0.00         6\n",
      "      0,0,13       0.00      0.00      0.00         1\n",
      "       0,0,2       0.00      0.00      0.00         2\n",
      "       0,0,3       0.00      0.00      0.00         4\n",
      "       0,0,5       0.00      0.00      0.00         1\n",
      "       0,0,8       0.00      0.00      0.00         3\n",
      "         0,1       0.00      0.00      0.00        38\n",
      "       0,1,1       0.00      0.00      0.00         1\n",
      "    0,1,2,11       0.00      0.00      0.00         1\n",
      "       0,1,3       0.00      0.00      0.00         1\n",
      "       0,1,6       0.00      0.00      0.00         2\n",
      "       0,1,8       0.00      0.00      0.00         1\n",
      "        0,10       0.00      0.00      0.00        40\n",
      "     0,10,11       0.00      0.00      0.00         1\n",
      "   0,10,4,10       0.00      0.00      0.00         1\n",
      "   0,10,4,11       0.00      0.00      0.00         1\n",
      "    0,10,4,8       0.00      0.00      0.00         1\n",
      "      0,10,6       0.00      0.00      0.00         1\n",
      "      0,10,8       0.00      0.00      0.00         2\n",
      "        0,11       1.00      0.01      0.02       109\n",
      "      0,11,0       0.00      0.00      0.00         1\n",
      "     0,11,12       0.00      0.00      0.00         2\n",
      "     0,11,13       0.00      0.00      0.00         1\n",
      "      0,11,2       0.00      0.00      0.00         3\n",
      "    0,11,2,3       0.00      0.00      0.00         1\n",
      "      0,11,3       0.00      0.00      0.00         1\n",
      "        0,12       0.00      0.00      0.00        12\n",
      "        0,13       0.00      0.00      0.00        83\n",
      "         0,2       0.25      0.03      0.06       126\n",
      "      0,2,10       0.00      0.00      0.00         1\n",
      "      0,2,13       0.00      0.00      0.00         1\n",
      "       0,2,2       0.00      0.00      0.00         1\n",
      "       0,2,3       0.00      0.00      0.00         4\n",
      "         0,3       0.33      0.02      0.04        96\n",
      "       0,3,0       0.00      0.00      0.00         1\n",
      "      0,3,10       0.00      0.00      0.00         1\n",
      "      0,3,12       0.00      0.00      0.00         1\n",
      "      0,3,13       0.00      0.00      0.00         1\n",
      "         0,4       0.00      0.00      0.00        53\n",
      "       0,4,0       0.00      0.00      0.00         1\n",
      "      0,4,10       0.00      0.00      0.00         1\n",
      "      0,4,11       0.00      0.00      0.00         2\n",
      "       0,4,2       0.00      0.00      0.00         3\n",
      "       0,4,3       0.00      0.00      0.00         5\n",
      "       0,4,8       0.00      0.00      0.00         2\n",
      "         0,5       0.00      0.00      0.00        13\n",
      "       0,5,3       0.00      0.00      0.00         1\n",
      "       0,5,6       0.00      0.00      0.00         1\n",
      "       0,5,8       0.00      0.00      0.00         1\n",
      "         0,6       0.00      0.00      0.00        33\n",
      "       0,6,0       0.00      0.00      0.00         1\n",
      "     0,6,0,0       0.00      0.00      0.00         1\n",
      "       0,6,2       0.00      0.00      0.00         2\n",
      "       0,6,3       0.00      0.00      0.00         4\n",
      "       0,6,7       0.00      0.00      0.00         1\n",
      "       0,6,8       0.00      0.00      0.00         2\n",
      "     0,6,8,3       0.00      0.00      0.00         1\n",
      "         0,7       0.00      0.00      0.00         8\n",
      "       0,7,0       0.00      0.00      0.00         1\n",
      "      0,7,10       0.00      0.00      0.00         1\n",
      "         0,8       0.56      0.12      0.20       264\n",
      "       0,8,0       0.00      0.00      0.00         5\n",
      "    0,8,0,11       0.00      0.00      0.00         1\n",
      "      0,8,10       0.00      0.00      0.00         1\n",
      "      0,8,11       0.00      0.00      0.00        14\n",
      "    0,8,11,3       0.00      0.00      0.00         1\n",
      "       0,8,2       0.00      0.00      0.00         9\n",
      "       0,8,3       0.00      0.00      0.00        16\n",
      "       0,8,4       0.00      0.00      0.00         1\n",
      "     0,8,4,0       0.00      0.00      0.00         1\n",
      "       0,8,5       0.00      0.00      0.00         2\n",
      "       0,8,7       0.00      0.00      0.00         1\n",
      "       0,8,8       0.00      0.00      0.00         3\n",
      "      0,9,10       0.00      0.00      0.00         1\n",
      "           1       0.45      0.35      0.40      1212\n",
      "         1,0       0.00      0.00      0.00         5\n",
      "         1,1       0.00      0.00      0.00       124\n",
      "      1,1,13       0.00      0.00      0.00         1\n",
      "       1,1,5       0.00      0.00      0.00         6\n",
      "       1,1,6       0.00      0.00      0.00         7\n",
      "     1,1,6,6       0.00      0.00      0.00         1\n",
      "       1,1,8       0.00      0.00      0.00         1\n",
      "        1,10       0.00      0.00      0.00        31\n",
      "      1,10,3       0.00      0.00      0.00         1\n",
      "      1,10,6       0.00      0.00      0.00         1\n",
      "      1,10,7       0.00      0.00      0.00         1\n",
      "        1,11       0.00      0.00      0.00         2\n",
      "        1,12       0.00      0.00      0.00         1\n",
      "        1,13       0.00      0.00      0.00        98\n",
      "         1,2       0.00      0.00      0.00        18\n",
      "      1,2,13       0.00      0.00      0.00         1\n",
      "       1,2,3       0.00      0.00      0.00         1\n",
      "         1,3       0.00      0.00      0.00        31\n",
      "         1,4       0.00      0.00      0.00        32\n",
      "       1,4,3       0.00      0.00      0.00         2\n",
      "       1,4,6       0.00      0.00      0.00         1\n",
      "         1,5       0.00      0.00      0.00        56\n",
      "      1,5,10       0.00      0.00      0.00         4\n",
      "       1,5,6       0.00      0.00      0.00         7\n",
      "       1,5,7       0.00      0.00      0.00         1\n",
      "       1,5,9       0.00      0.00      0.00         1\n",
      "         1,6       0.00      0.00      0.00       144\n",
      "      1,6,10       0.00      0.00      0.00         1\n",
      "      1,6,13       0.00      0.00      0.00         1\n",
      "       1,6,6       0.00      0.00      0.00         7\n",
      "       1,6,7       0.00      0.00      0.00         1\n",
      "       1,6,8       0.00      0.00      0.00         1\n",
      "         1,7       0.00      0.00      0.00         8\n",
      "         1,8       0.50      0.09      0.15        34\n",
      "       1,8,2       0.00      0.00      0.00         1\n",
      "       1,8,3       0.00      0.00      0.00         2\n",
      "       1,8,4       0.00      0.00      0.00         1\n",
      "          10       0.54      0.36      0.43       993\n",
      "        10,0       0.00      0.00      0.00        15\n",
      "       10,10       0.00      0.00      0.00        19\n",
      "       10,13       0.00      0.00      0.00        66\n",
      "        10,2       0.00      0.00      0.00         3\n",
      "     10,2,10       0.00      0.00      0.00         1\n",
      "      10,2,3       0.00      0.00      0.00         1\n",
      "        10,3       0.00      0.00      0.00        10\n",
      "     10,3,13       0.00      0.00      0.00         1\n",
      "        10,4       0.00      0.00      0.00        79\n",
      "      10,4,0       0.00      0.00      0.00         1\n",
      "     10,4,13       0.00      0.00      0.00         6\n",
      "      10,4,3       0.00      0.00      0.00         2\n",
      "      10,4,5       0.00      0.00      0.00         3\n",
      "    10,4,5,0       0.00      0.00      0.00         1\n",
      "      10,4,6       0.00      0.00      0.00         1\n",
      "      10,4,7       0.00      0.00      0.00         2\n",
      "      10,4,8       0.00      0.00      0.00         1\n",
      "        10,5       0.00      0.00      0.00         5\n",
      "        10,6       0.00      0.00      0.00         9\n",
      "     10,6,10       0.00      0.00      0.00         1\n",
      "     10,6,13       0.00      0.00      0.00         1\n",
      "        10,7       0.00      0.00      0.00         1\n",
      "      10,7,0       0.00      0.00      0.00         1\n",
      "        10,8       0.00      0.00      0.00         8\n",
      "      10,8,0       0.00      0.00      0.00         1\n",
      "      10,8,3       0.00      0.00      0.00         1\n",
      "          11       0.41      0.52      0.46       422\n",
      "        11,0       0.00      0.00      0.00         4\n",
      "       11,10       0.00      0.00      0.00         5\n",
      "       11,12       0.00      0.00      0.00         3\n",
      "       11,13       0.00      0.00      0.00        17\n",
      "        11,2       0.00      0.00      0.00        26\n",
      "        11,3       0.00      0.00      0.00        18\n",
      "          12       0.22      0.06      0.10        32\n",
      "       12,13       0.00      0.00      0.00         1\n",
      "          13       0.45      0.87      0.60      6386\n",
      "           2       0.55      0.59      0.57      1056\n",
      "         2,0       0.00      0.00      0.00         3\n",
      "        2,10       0.00      0.00      0.00        19\n",
      "     2,10,10       0.00      0.00      0.00         1\n",
      "        2,11       0.00      0.00      0.00        10\n",
      "      2,11,3       0.00      0.00      0.00         1\n",
      "        2,13       0.00      0.00      0.00        41\n",
      "         2,2       0.00      0.00      0.00        12\n",
      "         2,3       0.00      0.00      0.00        54\n",
      "      2,3,10       0.00      0.00      0.00         2\n",
      "       2,3,3       0.00      0.00      0.00         1\n",
      "         2,4       0.00      0.00      0.00         6\n",
      "       2,4,3       0.00      0.00      0.00         2\n",
      "       2,4,6       0.00      0.00      0.00         1\n",
      "         2,5       0.00      0.00      0.00         2\n",
      "      2,5,10       0.00      0.00      0.00         3\n",
      "       2,5,3       0.00      0.00      0.00         1\n",
      "         2,6       0.00      0.00      0.00         7\n",
      "      2,6,11       0.00      0.00      0.00         1\n",
      "         2,7       0.00      0.00      0.00         6\n",
      "         2,8       0.00      0.00      0.00         7\n",
      "       2,8,3       0.00      0.00      0.00         1\n",
      "         2,9       0.00      0.00      0.00         2\n",
      "      2,9,10       0.00      0.00      0.00         1\n",
      "           3       0.49      0.35      0.41       753\n",
      "         3,0       0.00      0.00      0.00        18\n",
      "        3,10       0.00      0.00      0.00        25\n",
      "        3,12       0.00      0.00      0.00         2\n",
      "        3,13       0.00      0.00      0.00        75\n",
      "         3,3       0.00      0.00      0.00        16\n",
      "      3,3,10       0.00      0.00      0.00         1\n",
      "           4       0.62      0.15      0.24       896\n",
      "         4,0       0.00      0.00      0.00        34\n",
      "       4,0,0       0.00      0.00      0.00         1\n",
      "      4,0,11       0.00      0.00      0.00         3\n",
      "       4,0,3       0.00      0.00      0.00         2\n",
      "        4,10       0.00      0.00      0.00        18\n",
      "        4,11       0.00      0.00      0.00         6\n",
      "      4,11,2       0.00      0.00      0.00         1\n",
      "        4,13       0.00      0.00      0.00        70\n",
      "         4,2       0.00      0.00      0.00        24\n",
      "       4,2,0       0.00      0.00      0.00         1\n",
      "      4,2,10       0.00      0.00      0.00         1\n",
      "       4,2,3       0.00      0.00      0.00         1\n",
      "         4,3       0.00      0.00      0.00        53\n",
      "       4,3,3       0.00      0.00      0.00         1\n",
      "         4,4       0.00      0.00      0.00         6\n",
      "       4,4,0       0.00      0.00      0.00         1\n",
      "         4,5       0.00      0.00      0.00         8\n",
      "      4,5,10       0.00      0.00      0.00         2\n",
      "   4,5,10,10       0.00      0.00      0.00         1\n",
      "       4,5,3       0.00      0.00      0.00         1\n",
      "         4,6       0.00      0.00      0.00        25\n",
      "      4,6,10       0.00      0.00      0.00         3\n",
      "      4,6,11       0.00      0.00      0.00         1\n",
      "       4,6,2       0.00      0.00      0.00         1\n",
      "       4,6,3       0.00      0.00      0.00         1\n",
      "       4,6,6       0.00      0.00      0.00         1\n",
      "       4,6,8       0.00      0.00      0.00         1\n",
      "         4,7       0.00      0.00      0.00         5\n",
      "      4,7,10       0.00      0.00      0.00         1\n",
      "         4,8       0.00      0.00      0.00        15\n",
      "       4,8,3       0.00      0.00      0.00         2\n",
      "         4,9       0.00      0.00      0.00         1\n",
      "           5       0.47      0.09      0.15       366\n",
      "         5,0       0.00      0.00      0.00         5\n",
      "        5,10       0.00      0.00      0.00        68\n",
      "     5,10,10       0.00      0.00      0.00         1\n",
      "     5,10,13       0.00      0.00      0.00         2\n",
      "        5,11       0.00      0.00      0.00         2\n",
      "   5,11,2,10       0.00      0.00      0.00         1\n",
      "        5,13       0.00      0.00      0.00        35\n",
      "         5,2       0.00      0.00      0.00         5\n",
      "         5,3       0.00      0.00      0.00        17\n",
      "      5,3,10       0.00      0.00      0.00         2\n",
      "         5,6       0.00      0.00      0.00        29\n",
      "      5,6,10       0.00      0.00      0.00         1\n",
      "  5,6,7,7,10       0.00      0.00      0.00         1\n",
      "         5,7       0.00      0.00      0.00         3\n",
      "         5,8       0.00      0.00      0.00         4\n",
      "         5,9       0.00      0.00      0.00         1\n",
      "           6       0.49      0.15      0.23      1067\n",
      "         6,0       0.00      0.00      0.00         7\n",
      "      6,0,11       0.00      0.00      0.00         1\n",
      "        6,10       0.00      0.00      0.00        24\n",
      "        6,13       0.00      0.00      0.00        78\n",
      "         6,2       0.00      0.00      0.00         7\n",
      "         6,3       0.00      0.00      0.00        36\n",
      "      6,3,10       0.00      0.00      0.00         2\n",
      "      6,3,12       0.00      0.00      0.00         1\n",
      "         6,6       0.00      0.00      0.00        23\n",
      "      6,6,13       0.00      0.00      0.00         1\n",
      "         6,7       0.00      0.00      0.00         5\n",
      "       6,7,3       0.00      0.00      0.00         2\n",
      "         6,8       0.00      0.00      0.00         7\n",
      "         6,9       0.00      0.00      0.00         1\n",
      "           7       0.50      0.48      0.49       257\n",
      "         7,0       0.00      0.00      0.00         1\n",
      "        7,10       0.00      0.00      0.00         8\n",
      "        7,11       0.00      0.00      0.00         1\n",
      "      7,11,7       0.00      0.00      0.00         1\n",
      "        7,13       0.00      0.00      0.00        14\n",
      "         7,2       0.00      0.00      0.00         2\n",
      "         7,3       0.00      0.00      0.00         6\n",
      "      7,3,10       0.00      0.00      0.00         1\n",
      "         7,7       0.00      0.00      0.00        12\n",
      "      7,7,13       0.00      0.00      0.00         1\n",
      "      7,8,10       0.00      0.00      0.00         1\n",
      "           8       0.70      0.46      0.56      1910\n",
      "         8,0       0.00      0.00      0.00        30\n",
      "       8,0,0       0.00      0.00      0.00         1\n",
      "      8,0,13       0.00      0.00      0.00         2\n",
      "       8,0,3       0.00      0.00      0.00         1\n",
      "        8,10       0.00      0.00      0.00        35\n",
      "      8,10,4       0.00      0.00      0.00         1\n",
      "        8,11       0.00      0.00      0.00        36\n",
      "      8,11,3       0.00      0.00      0.00         1\n",
      "        8,12       0.00      0.00      0.00         6\n",
      "        8,13       0.00      0.00      0.00       103\n",
      "         8,2       0.69      0.14      0.23        78\n",
      "       8,2,2       0.00      0.00      0.00         1\n",
      "       8,2,3       0.00      0.00      0.00         2\n",
      "       8,2,4       0.00      0.00      0.00         1\n",
      "         8,3       0.50      0.08      0.13       103\n",
      "       8,3,0       0.00      0.00      0.00         1\n",
      "      8,3,10       0.00      0.00      0.00         1\n",
      "      8,3,12       0.00      0.00      0.00         1\n",
      "      8,3,13       0.00      0.00      0.00         2\n",
      "       8,3,3       0.00      0.00      0.00         1\n",
      "         8,4       0.00      0.00      0.00        22\n",
      "       8,4,2       0.00      0.00      0.00         1\n",
      "       8,4,3       0.00      0.00      0.00         3\n",
      "         8,5       0.00      0.00      0.00         8\n",
      "   8,5,10,13       0.00      0.00      0.00         1\n",
      "       8,5,3       0.00      0.00      0.00         2\n",
      "         8,6       0.00      0.00      0.00        15\n",
      "         8,7       0.00      0.00      0.00         6\n",
      "       8,7,2       0.00      0.00      0.00         1\n",
      "         8,8       0.00      0.00      0.00        32\n",
      "      8,9,10       0.00      0.00      0.00         1\n",
      "           9       0.00      0.00      0.00        25\n",
      "         9,0       0.00      0.00      0.00         1\n",
      "        9,10       0.00      0.00      0.00        13\n",
      "     9,10,10       0.00      0.00      0.00         1\n",
      "        9,13       0.00      0.00      0.00         1\n",
      "         9,2       0.00      0.00      0.00         1\n",
      "\n",
      "    accuracy                           0.49     21706\n",
      "   macro avg       0.03      0.02      0.02     21706\n",
      "weighted avg       0.45      0.49      0.43     21706\n",
      "\n",
      "Accuracy: 0.4929051875057588\n",
      "Precision: 0.4929051875057588\n",
      "Recall: 0.4929051875057588\n",
      "F1 score: 0.4929051875057588\n"
     ]
    }
   ],
   "source": [
    "from sklearn.metrics import confusion_matrix, accuracy_score, precision_score, recall_score, f1_score, classification_report\n",
    "\n",
    "accuracy = accuracy_score(y_test, y_pred)\n",
    "\n",
    "precision=precision_score(y_test, y_pred, \n",
    "                                           pos_label='positive',\n",
    "                                           average='micro')\n",
    "classes = np.unique(y_test)\n",
    "report = classification_report(y_test, y_pred, labels=classes)\n",
    "\n",
    "recall = recall_score(y_test, y_pred, \n",
    "                                           pos_label='positive',\n",
    "                                           average='micro')\n",
    "\n",
    "f1 = f1_score(y_test, y_pred, \n",
    "                                           pos_label='positive',\n",
    "                                           average='micro')\n",
    "\n",
    "print(\"Classification report:\\n\", report)\n",
    "print(\"Accuracy:\", accuracy)\n",
    "print(\"Precision:\", precision)\n",
    "print(\"Recall:\", recall)\n",
    "print(\"F1 score:\", f1)"
   ]
  },
  {
   "cell_type": "code",
   "execution_count": 156,
   "metadata": {},
   "outputs": [
    {
     "data": {
      "text/plain": [
       "str"
      ]
     },
     "execution_count": 156,
     "metadata": {},
     "output_type": "execute_result"
    }
   ],
   "source": [
    "type(y_test[0])"
   ]
  },
  {
   "cell_type": "code",
   "execution_count": 157,
   "metadata": {},
   "outputs": [
    {
     "data": {
      "text/plain": [
       "str"
      ]
     },
     "execution_count": 157,
     "metadata": {},
     "output_type": "execute_result"
    }
   ],
   "source": [
    "type(y_pred[0])"
   ]
  },
  {
   "cell_type": "markdown",
   "metadata": {},
   "source": [
    "## Exp 2 - N-gram"
   ]
  },
  {
   "cell_type": "code",
   "execution_count": 159,
   "metadata": {},
   "outputs": [],
   "source": [
    "from sklearn.feature_extraction.text import CountVectorizer\n",
    "cv = CountVectorizer(ngram_range=(2,2))"
   ]
  },
  {
   "cell_type": "code",
   "execution_count": 160,
   "metadata": {},
   "outputs": [],
   "source": [
    "X_train, X_test, y_train, y_test = train_test_split(x, y, test_size=0.2, random_state=42)"
   ]
  },
  {
   "cell_type": "code",
   "execution_count": 161,
   "metadata": {},
   "outputs": [],
   "source": [
    "cv = CountVectorizer(ngram_range=(1,2))\n",
    "X_train = cv.fit_transform(X_train)\n",
    "X_test = cv.transform(X_test)"
   ]
  },
  {
   "cell_type": "code",
   "execution_count": 162,
   "metadata": {},
   "outputs": [
    {
     "data": {
      "text/html": [
       "<style>#sk-container-id-3 {color: black;background-color: white;}#sk-container-id-3 pre{padding: 0;}#sk-container-id-3 div.sk-toggleable {background-color: white;}#sk-container-id-3 label.sk-toggleable__label {cursor: pointer;display: block;width: 100%;margin-bottom: 0;padding: 0.3em;box-sizing: border-box;text-align: center;}#sk-container-id-3 label.sk-toggleable__label-arrow:before {content: \"▸\";float: left;margin-right: 0.25em;color: #696969;}#sk-container-id-3 label.sk-toggleable__label-arrow:hover:before {color: black;}#sk-container-id-3 div.sk-estimator:hover label.sk-toggleable__label-arrow:before {color: black;}#sk-container-id-3 div.sk-toggleable__content {max-height: 0;max-width: 0;overflow: hidden;text-align: left;background-color: #f0f8ff;}#sk-container-id-3 div.sk-toggleable__content pre {margin: 0.2em;color: black;border-radius: 0.25em;background-color: #f0f8ff;}#sk-container-id-3 input.sk-toggleable__control:checked~div.sk-toggleable__content {max-height: 200px;max-width: 100%;overflow: auto;}#sk-container-id-3 input.sk-toggleable__control:checked~label.sk-toggleable__label-arrow:before {content: \"▾\";}#sk-container-id-3 div.sk-estimator input.sk-toggleable__control:checked~label.sk-toggleable__label {background-color: #d4ebff;}#sk-container-id-3 div.sk-label input.sk-toggleable__control:checked~label.sk-toggleable__label {background-color: #d4ebff;}#sk-container-id-3 input.sk-hidden--visually {border: 0;clip: rect(1px 1px 1px 1px);clip: rect(1px, 1px, 1px, 1px);height: 1px;margin: -1px;overflow: hidden;padding: 0;position: absolute;width: 1px;}#sk-container-id-3 div.sk-estimator {font-family: monospace;background-color: #f0f8ff;border: 1px dotted black;border-radius: 0.25em;box-sizing: border-box;margin-bottom: 0.5em;}#sk-container-id-3 div.sk-estimator:hover {background-color: #d4ebff;}#sk-container-id-3 div.sk-parallel-item::after {content: \"\";width: 100%;border-bottom: 1px solid gray;flex-grow: 1;}#sk-container-id-3 div.sk-label:hover label.sk-toggleable__label {background-color: #d4ebff;}#sk-container-id-3 div.sk-serial::before {content: \"\";position: absolute;border-left: 1px solid gray;box-sizing: border-box;top: 0;bottom: 0;left: 50%;z-index: 0;}#sk-container-id-3 div.sk-serial {display: flex;flex-direction: column;align-items: center;background-color: white;padding-right: 0.2em;padding-left: 0.2em;position: relative;}#sk-container-id-3 div.sk-item {position: relative;z-index: 1;}#sk-container-id-3 div.sk-parallel {display: flex;align-items: stretch;justify-content: center;background-color: white;position: relative;}#sk-container-id-3 div.sk-item::before, #sk-container-id-3 div.sk-parallel-item::before {content: \"\";position: absolute;border-left: 1px solid gray;box-sizing: border-box;top: 0;bottom: 0;left: 50%;z-index: -1;}#sk-container-id-3 div.sk-parallel-item {display: flex;flex-direction: column;z-index: 1;position: relative;background-color: white;}#sk-container-id-3 div.sk-parallel-item:first-child::after {align-self: flex-end;width: 50%;}#sk-container-id-3 div.sk-parallel-item:last-child::after {align-self: flex-start;width: 50%;}#sk-container-id-3 div.sk-parallel-item:only-child::after {width: 0;}#sk-container-id-3 div.sk-dashed-wrapped {border: 1px dashed gray;margin: 0 0.4em 0.5em 0.4em;box-sizing: border-box;padding-bottom: 0.4em;background-color: white;}#sk-container-id-3 div.sk-label label {font-family: monospace;font-weight: bold;display: inline-block;line-height: 1.2em;}#sk-container-id-3 div.sk-label-container {text-align: center;}#sk-container-id-3 div.sk-container {/* jupyter's `normalize.less` sets `[hidden] { display: none; }` but bootstrap.min.css set `[hidden] { display: none !important; }` so we also need the `!important` here to be able to override the default hidden behavior on the sphinx rendered scikit-learn.org. See: https://github.com/scikit-learn/scikit-learn/issues/21755 */display: inline-block !important;position: relative;}#sk-container-id-3 div.sk-text-repr-fallback {display: none;}</style><div id=\"sk-container-id-3\" class=\"sk-top-container\"><div class=\"sk-text-repr-fallback\"><pre>SVC(kernel=&#x27;linear&#x27;)</pre><b>In a Jupyter environment, please rerun this cell to show the HTML representation or trust the notebook. <br />On GitHub, the HTML representation is unable to render, please try loading this page with nbviewer.org.</b></div><div class=\"sk-container\" hidden><div class=\"sk-item\"><div class=\"sk-estimator sk-toggleable\"><input class=\"sk-toggleable__control sk-hidden--visually\" id=\"sk-estimator-id-3\" type=\"checkbox\" checked><label for=\"sk-estimator-id-3\" class=\"sk-toggleable__label sk-toggleable__label-arrow\">SVC</label><div class=\"sk-toggleable__content\"><pre>SVC(kernel=&#x27;linear&#x27;)</pre></div></div></div></div></div>"
      ],
      "text/plain": [
       "SVC(kernel='linear')"
      ]
     },
     "execution_count": 162,
     "metadata": {},
     "output_type": "execute_result"
    }
   ],
   "source": [
    "clf = svm.SVC(kernel='linear')\n",
    "clf.fit(X_train, y_train)"
   ]
  },
  {
   "cell_type": "code",
   "execution_count": 163,
   "metadata": {},
   "outputs": [],
   "source": [
    "y_pred = clf.predict(X_test)"
   ]
  },
  {
   "cell_type": "code",
   "execution_count": 164,
   "metadata": {},
   "outputs": [
    {
     "name": "stdout",
     "output_type": "stream",
     "text": [
      "Accuracy: 0.4707454160140053\n"
     ]
    }
   ],
   "source": [
    "accuracy = accuracy_score(y_test, y_pred)\n",
    "print('Accuracy:', accuracy)"
   ]
  },
  {
   "cell_type": "code",
   "execution_count": 165,
   "metadata": {},
   "outputs": [
    {
     "name": "stderr",
     "output_type": "stream",
     "text": [
      "C:\\Users\\bibas\\anaconda3\\lib\\site-packages\\sklearn\\metrics\\_classification.py:1396: UserWarning: Note that pos_label (set to 'positive') is ignored when average != 'binary' (got 'micro'). You may use labels=[pos_label] to specify a single positive class.\n",
      "  warnings.warn(\n",
      "C:\\Users\\bibas\\anaconda3\\lib\\site-packages\\sklearn\\metrics\\_classification.py:1344: UndefinedMetricWarning: Precision and F-score are ill-defined and being set to 0.0 in labels with no predicted samples. Use `zero_division` parameter to control this behavior.\n",
      "  _warn_prf(average, modifier, msg_start, len(result))\n",
      "C:\\Users\\bibas\\anaconda3\\lib\\site-packages\\sklearn\\metrics\\_classification.py:1344: UndefinedMetricWarning: Precision and F-score are ill-defined and being set to 0.0 in labels with no predicted samples. Use `zero_division` parameter to control this behavior.\n",
      "  _warn_prf(average, modifier, msg_start, len(result))\n"
     ]
    },
    {
     "name": "stdout",
     "output_type": "stream",
     "text": [
      "Classification report:\n",
      "               precision    recall  f1-score   support\n",
      "\n",
      "           0       0.52      0.68      0.59      1372\n",
      "         0,0       0.00      0.00      0.00        47\n",
      "       0,0,0       0.00      0.00      0.00         2\n",
      "      0,0,11       0.00      0.00      0.00         2\n",
      "      0,0,13       0.00      0.00      0.00         1\n",
      "       0,0,2       0.00      0.00      0.00         1\n",
      "       0,0,3       0.00      0.00      0.00         2\n",
      "       0,0,5       0.00      0.00      0.00         1\n",
      "       0,0,8       0.00      0.00      0.00         2\n",
      "         0,1       0.00      0.00      0.00        21\n",
      "       0,1,1       0.00      0.00      0.00         1\n",
      "    0,1,2,11       0.00      0.00      0.00         1\n",
      "       0,1,8       0.00      0.00      0.00         1\n",
      "        0,10       0.00      0.00      0.00        18\n",
      "     0,10,11       0.00      0.00      0.00         1\n",
      "   0,10,4,11       0.00      0.00      0.00         1\n",
      "    0,10,4,8       0.00      0.00      0.00         1\n",
      "      0,10,8       0.00      0.00      0.00         1\n",
      "        0,11       0.12      0.02      0.03        60\n",
      "      0,11,0       0.00      0.00      0.00         1\n",
      "     0,11,12       0.00      0.00      0.00         1\n",
      "      0,11,2       0.00      0.00      0.00         1\n",
      "    0,11,2,3       0.00      0.00      0.00         1\n",
      "      0,11,3       0.00      0.00      0.00         1\n",
      "        0,12       0.50      0.20      0.29         5\n",
      "        0,13       0.00      0.00      0.00        47\n",
      "         0,2       0.18      0.10      0.13        58\n",
      "       0,2,3       0.00      0.00      0.00         2\n",
      "         0,3       0.12      0.07      0.09        44\n",
      "      0,3,10       0.00      0.00      0.00         1\n",
      "      0,3,12       0.00      0.00      0.00         1\n",
      "         0,4       0.00      0.00      0.00        30\n",
      "      0,4,11       0.00      0.00      0.00         1\n",
      "       0,4,2       0.00      0.00      0.00         2\n",
      "       0,4,3       0.00      0.00      0.00         1\n",
      "       0,4,8       0.00      0.00      0.00         1\n",
      "         0,5       0.00      0.00      0.00         4\n",
      "       0,5,6       0.00      0.00      0.00         1\n",
      "         0,6       0.00      0.00      0.00         9\n",
      "       0,6,0       0.00      0.00      0.00         1\n",
      "       0,6,2       0.00      0.00      0.00         1\n",
      "       0,6,3       0.00      0.00      0.00         3\n",
      "       0,6,7       0.00      0.00      0.00         1\n",
      "       0,6,8       0.00      0.00      0.00         1\n",
      "     0,6,8,3       0.00      0.00      0.00         1\n",
      "         0,7       0.00      0.00      0.00         2\n",
      "         0,8       0.32      0.17      0.22       143\n",
      "       0,8,0       0.00      0.00      0.00         2\n",
      "      0,8,10       0.00      0.00      0.00         1\n",
      "      0,8,11       0.00      0.00      0.00         9\n",
      "       0,8,2       0.00      0.00      0.00         2\n",
      "       0,8,3       0.00      0.00      0.00         7\n",
      "       0,8,5       0.00      0.00      0.00         2\n",
      "       0,8,7       0.00      0.00      0.00         1\n",
      "       0,8,8       0.00      0.00      0.00         2\n",
      "           1       0.41      0.38      0.39       650\n",
      "         1,0       0.00      0.00      0.00         2\n",
      "         1,1       0.13      0.03      0.05        59\n",
      "       1,1,5       0.00      0.00      0.00         3\n",
      "       1,1,6       0.00      0.00      0.00         3\n",
      "        1,10       0.00      0.00      0.00        12\n",
      "      1,10,6       0.00      0.00      0.00         1\n",
      "      1,10,7       0.00      0.00      0.00         1\n",
      "        1,11       0.00      0.00      0.00         2\n",
      "        1,13       0.00      0.00      0.00        55\n",
      "         1,2       0.00      0.00      0.00         5\n",
      "      1,2,13       0.00      0.00      0.00         1\n",
      "         1,3       0.00      0.00      0.00        18\n",
      "         1,4       0.00      0.00      0.00        14\n",
      "       1,4,3       0.00      0.00      0.00         1\n",
      "       1,4,6       0.00      0.00      0.00         1\n",
      "         1,5       0.00      0.00      0.00        29\n",
      "      1,5,10       0.00      0.00      0.00         1\n",
      "       1,5,6       0.00      0.00      0.00         6\n",
      "         1,6       0.17      0.03      0.05        70\n",
      "      1,6,10       0.00      0.00      0.00         1\n",
      "       1,6,6       0.00      0.00      0.00         5\n",
      "       1,6,7       0.00      0.00      0.00         1\n",
      "         1,7       0.00      0.00      0.00         4\n",
      "         1,8       0.67      0.22      0.33        18\n",
      "       1,8,3       0.00      0.00      0.00         2\n",
      "          10       0.41      0.43      0.42       472\n",
      "        10,0       0.00      0.00      0.00         7\n",
      "       10,10       0.00      0.00      0.00        11\n",
      "       10,13       0.00      0.00      0.00        30\n",
      "     10,2,10       0.00      0.00      0.00         1\n",
      "        10,3       0.00      0.00      0.00         5\n",
      "        10,4       0.00      0.00      0.00        35\n",
      "      10,4,0       0.00      0.00      0.00         1\n",
      "     10,4,13       0.00      0.00      0.00         4\n",
      "      10,4,3       0.00      0.00      0.00         2\n",
      "      10,4,5       0.00      0.00      0.00         1\n",
      "        10,5       0.00      0.00      0.00         3\n",
      "        10,6       0.00      0.00      0.00         3\n",
      "     10,6,10       0.00      0.00      0.00         1\n",
      "        10,7       0.00      0.00      0.00         1\n",
      "      10,7,0       0.00      0.00      0.00         1\n",
      "        10,8       0.00      0.00      0.00         2\n",
      "      10,8,3       0.00      0.00      0.00         1\n",
      "          11       0.36      0.43      0.39       207\n",
      "        11,0       0.00      0.00      0.00         1\n",
      "       11,10       0.00      0.00      0.00         3\n",
      "       11,12       0.00      0.00      0.00         2\n",
      "       11,13       0.00      0.00      0.00        10\n",
      "        11,2       0.33      0.06      0.11        16\n",
      "        11,3       0.00      0.00      0.00         9\n",
      "          12       0.18      0.20      0.19        20\n",
      "       12,13       0.00      0.00      0.00         1\n",
      "          13       0.49      0.75      0.59      3175\n",
      "           2       0.49      0.56      0.52       547\n",
      "         2,0       0.00      0.00      0.00         2\n",
      "        2,10       1.00      0.17      0.29         6\n",
      "        2,11       0.00      0.00      0.00         6\n",
      "        2,13       0.00      0.00      0.00        21\n",
      "         2,2       0.00      0.00      0.00         4\n",
      "         2,3       0.20      0.04      0.06        27\n",
      "      2,3,10       0.00      0.00      0.00         1\n",
      "       2,3,3       0.00      0.00      0.00         1\n",
      "         2,4       0.00      0.00      0.00         1\n",
      "       2,4,3       0.00      0.00      0.00         1\n",
      "         2,5       0.00      0.00      0.00         2\n",
      "      2,5,10       0.00      0.00      0.00         1\n",
      "       2,5,3       0.00      0.00      0.00         1\n",
      "         2,6       0.00      0.00      0.00         2\n",
      "      2,6,11       0.00      0.00      0.00         1\n",
      "         2,7       0.00      0.00      0.00         3\n",
      "         2,8       0.00      0.00      0.00         1\n",
      "       2,8,3       0.00      0.00      0.00         1\n",
      "           3       0.42      0.38      0.40       349\n",
      "         3,0       0.00      0.00      0.00        11\n",
      "        3,10       1.00      0.09      0.17        11\n",
      "        3,12       0.00      0.00      0.00         1\n",
      "        3,13       0.00      0.00      0.00        42\n",
      "         3,3       0.00      0.00      0.00         7\n",
      "           4       0.39      0.18      0.24       427\n",
      "         4,0       0.00      0.00      0.00        18\n",
      "      4,0,11       0.00      0.00      0.00         1\n",
      "       4,0,3       0.00      0.00      0.00         2\n",
      "        4,10       0.00      0.00      0.00         9\n",
      "        4,11       0.00      0.00      0.00         3\n",
      "      4,11,2       0.00      0.00      0.00         1\n",
      "        4,13       0.00      0.00      0.00        29\n",
      "         4,2       0.00      0.00      0.00        12\n",
      "      4,2,10       0.00      0.00      0.00         1\n",
      "         4,3       0.00      0.00      0.00        25\n",
      "         4,4       0.00      0.00      0.00         4\n",
      "       4,4,0       0.00      0.00      0.00         1\n",
      "         4,5       0.00      0.00      0.00         4\n",
      "      4,5,10       0.00      0.00      0.00         2\n",
      "   4,5,10,10       0.00      0.00      0.00         1\n",
      "         4,6       0.00      0.00      0.00         9\n",
      "      4,6,10       0.00      0.00      0.00         3\n",
      "       4,6,2       0.00      0.00      0.00         1\n",
      "       4,6,6       0.00      0.00      0.00         1\n",
      "      4,7,10       0.00      0.00      0.00         1\n",
      "         4,8       0.00      0.00      0.00        11\n",
      "       4,8,3       0.00      0.00      0.00         1\n",
      "           5       0.14      0.06      0.09       176\n",
      "         5,0       0.00      0.00      0.00         2\n",
      "        5,10       0.00      0.00      0.00        26\n",
      "     5,10,10       0.00      0.00      0.00         1\n",
      "     5,10,13       0.00      0.00      0.00         1\n",
      "        5,13       0.00      0.00      0.00        24\n",
      "         5,2       0.00      0.00      0.00         2\n",
      "         5,3       0.00      0.00      0.00         8\n",
      "         5,6       0.00      0.00      0.00        15\n",
      "         5,7       0.00      0.00      0.00         3\n",
      "         5,8       0.00      0.00      0.00         1\n",
      "         5,9       0.00      0.00      0.00         1\n",
      "           6       0.35      0.21      0.26       544\n",
      "         6,0       0.00      0.00      0.00         2\n",
      "      6,0,11       0.00      0.00      0.00         1\n",
      "        6,10       0.00      0.00      0.00        14\n",
      "        6,13       0.00      0.00      0.00        38\n",
      "         6,2       0.00      0.00      0.00         3\n",
      "         6,3       0.00      0.00      0.00        21\n",
      "      6,3,10       0.00      0.00      0.00         2\n",
      "      6,3,12       0.00      0.00      0.00         1\n",
      "         6,6       0.00      0.00      0.00        14\n",
      "      6,6,13       0.00      0.00      0.00         1\n",
      "         6,7       0.00      0.00      0.00         1\n",
      "       6,7,3       0.00      0.00      0.00         1\n",
      "         6,8       0.00      0.00      0.00         3\n",
      "         6,9       0.00      0.00      0.00         1\n",
      "           7       0.47      0.50      0.49       142\n",
      "         7,0       0.00      0.00      0.00         1\n",
      "        7,10       0.00      0.00      0.00         6\n",
      "        7,13       0.00      0.00      0.00         7\n",
      "         7,2       0.00      0.00      0.00         1\n",
      "         7,3       0.00      0.00      0.00         1\n",
      "      7,3,10       0.00      0.00      0.00         1\n",
      "         7,7       0.00      0.00      0.00         6\n",
      "      7,8,10       0.00      0.00      0.00         1\n",
      "           8       0.58      0.49      0.53       980\n",
      "         8,0       0.00      0.00      0.00        14\n",
      "       8,0,3       0.00      0.00      0.00         1\n",
      "        8,10       0.50      0.06      0.11        16\n",
      "        8,11       0.33      0.07      0.12        14\n",
      "      8,11,3       0.00      0.00      0.00         1\n",
      "        8,12       0.00      0.00      0.00         4\n",
      "        8,13       0.00      0.00      0.00        45\n",
      "         8,2       0.60      0.19      0.29        48\n",
      "       8,2,3       0.00      0.00      0.00         1\n",
      "         8,3       0.32      0.13      0.18        54\n",
      "      8,3,12       0.00      0.00      0.00         1\n",
      "      8,3,13       0.00      0.00      0.00         1\n",
      "       8,3,3       0.00      0.00      0.00         1\n",
      "         8,4       0.00      0.00      0.00        11\n",
      "         8,5       0.00      0.00      0.00         2\n",
      "         8,6       0.00      0.00      0.00         8\n",
      "         8,7       0.00      0.00      0.00         1\n",
      "         8,8       0.33      0.05      0.09        19\n",
      "      8,9,10       0.00      0.00      0.00         1\n",
      "           9       0.00      0.00      0.00        14\n",
      "         9,0       0.00      0.00      0.00         1\n",
      "        9,10       0.00      0.00      0.00         6\n",
      "     9,10,10       0.00      0.00      0.00         1\n",
      "        9,13       0.00      0.00      0.00         1\n",
      "\n",
      "   micro avg       0.47      0.47      0.47     10853\n",
      "   macro avg       0.06      0.03      0.04     10853\n",
      "weighted avg       0.41      0.47      0.42     10853\n",
      "\n",
      "Accuracy: 0.4707454160140053\n",
      "Precision: 0.4707454160140053\n",
      "Recall: 0.4707454160140053\n",
      "F1 score: 0.4707454160140053\n"
     ]
    },
    {
     "name": "stderr",
     "output_type": "stream",
     "text": [
      "C:\\Users\\bibas\\anaconda3\\lib\\site-packages\\sklearn\\metrics\\_classification.py:1344: UndefinedMetricWarning: Precision and F-score are ill-defined and being set to 0.0 in labels with no predicted samples. Use `zero_division` parameter to control this behavior.\n",
      "  _warn_prf(average, modifier, msg_start, len(result))\n",
      "C:\\Users\\bibas\\anaconda3\\lib\\site-packages\\sklearn\\metrics\\_classification.py:1396: UserWarning: Note that pos_label (set to 'positive') is ignored when average != 'binary' (got 'micro'). You may use labels=[pos_label] to specify a single positive class.\n",
      "  warnings.warn(\n",
      "C:\\Users\\bibas\\anaconda3\\lib\\site-packages\\sklearn\\metrics\\_classification.py:1396: UserWarning: Note that pos_label (set to 'positive') is ignored when average != 'binary' (got 'micro'). You may use labels=[pos_label] to specify a single positive class.\n",
      "  warnings.warn(\n"
     ]
    }
   ],
   "source": [
    "from sklearn.metrics import confusion_matrix, accuracy_score, precision_score, recall_score, f1_score, classification_report\n",
    "\n",
    "accuracy = accuracy_score(y_test, y_pred)\n",
    "\n",
    "precision=precision_score(y_test, y_pred, \n",
    "                                           pos_label='positive',\n",
    "                                           average='micro')\n",
    "classes = np.unique(y_test)\n",
    "report = classification_report(y_test, y_pred, labels=classes)\n",
    "\n",
    "recall = recall_score(y_test, y_pred, \n",
    "                                           pos_label='positive',\n",
    "                                           average='micro')\n",
    "\n",
    "f1 = f1_score(y_test, y_pred, \n",
    "                                           pos_label='positive',\n",
    "                                           average='micro')\n",
    "\n",
    "print(\"Classification report:\\n\", report)\n",
    "print(\"Accuracy:\", accuracy)\n",
    "print(\"Precision:\", precision)\n",
    "print(\"Recall:\", recall)\n",
    "print(\"F1 score:\", f1)"
   ]
  },
  {
   "cell_type": "markdown",
   "metadata": {},
   "source": [
    "## Exp 3 - Max Features"
   ]
  },
  {
   "cell_type": "code",
   "execution_count": 79,
   "metadata": {},
   "outputs": [
    {
     "name": "stdout",
     "output_type": "stream",
     "text": [
      "\n",
      " the total number of Training Data : (43410,)\n",
      "\n",
      " the total number of Test Data : (10853,)\n",
      "\n",
      " the total number of Training Data : (43410, 10)\n",
      "\n",
      " the total number of Test Data : (10853, 10)\n",
      "Accuracy: 0.33603611904542524\n"
     ]
    },
    {
     "name": "stderr",
     "output_type": "stream",
     "text": [
      "C:\\Users\\bibas\\anaconda3\\lib\\site-packages\\sklearn\\metrics\\_classification.py:1396: UserWarning: Note that pos_label (set to 'positive') is ignored when average != 'binary' (got 'micro'). You may use labels=[pos_label] to specify a single positive class.\n",
      "  warnings.warn(\n",
      "C:\\Users\\bibas\\anaconda3\\lib\\site-packages\\sklearn\\metrics\\_classification.py:1344: UndefinedMetricWarning: Precision and F-score are ill-defined and being set to 0.0 in labels with no predicted samples. Use `zero_division` parameter to control this behavior.\n",
      "  _warn_prf(average, modifier, msg_start, len(result))\n",
      "C:\\Users\\bibas\\anaconda3\\lib\\site-packages\\sklearn\\metrics\\_classification.py:1344: UndefinedMetricWarning: Precision and F-score are ill-defined and being set to 0.0 in labels with no predicted samples. Use `zero_division` parameter to control this behavior.\n",
      "  _warn_prf(average, modifier, msg_start, len(result))\n",
      "C:\\Users\\bibas\\anaconda3\\lib\\site-packages\\sklearn\\metrics\\_classification.py:1344: UndefinedMetricWarning: Precision and F-score are ill-defined and being set to 0.0 in labels with no predicted samples. Use `zero_division` parameter to control this behavior.\n",
      "  _warn_prf(average, modifier, msg_start, len(result))\n",
      "C:\\Users\\bibas\\anaconda3\\lib\\site-packages\\sklearn\\metrics\\_classification.py:1396: UserWarning: Note that pos_label (set to 'positive') is ignored when average != 'binary' (got 'micro'). You may use labels=[pos_label] to specify a single positive class.\n",
      "  warnings.warn(\n",
      "C:\\Users\\bibas\\anaconda3\\lib\\site-packages\\sklearn\\metrics\\_classification.py:1396: UserWarning: Note that pos_label (set to 'positive') is ignored when average != 'binary' (got 'micro'). You may use labels=[pos_label] to specify a single positive class.\n",
      "  warnings.warn(\n"
     ]
    }
   ],
   "source": [
    "x=df['text']\n",
    "y=df['l']\n",
    "\n",
    "from sklearn.naive_bayes import MultinomialNB\n",
    "from sklearn.feature_extraction.text import TfidfVectorizer\n",
    "from sklearn.metrics import accuracy_score\n",
    "from sklearn.model_selection import train_test_split\n",
    "\n",
    "X_train, X_test, y_train, y_test = train_test_split(x, y, test_size=0.2, random_state=42)\n",
    "print ('\\n the total number of Training Data :',y_train.shape)\n",
    "print ('\\n the total number of Test Data :',y_test.shape)\n",
    "\n",
    "vectorizer = TfidfVectorizer(stop_words='english', max_features=10)\n",
    "\n",
    "X_train_transformed = vectorizer.fit_transform(X_train)\n",
    "X_test_transformed = vectorizer.transform(X_test)\n",
    "print ('\\n the total number of Training Data :',X_train_transformed.shape)\n",
    "print ('\\n the total number of Test Data :',X_test_transformed.shape)\n",
    "\n",
    "clf = MultinomialNB()\n",
    "\n",
    "clf.fit(X_train_transformed, y_train)\n",
    "\n",
    "y_pred = clf.predict(X_test_transformed)\n",
    "\n",
    "accuracy = accuracy_score(y_test, y_pred)\n",
    "print(\"Accuracy:\", accuracy)\n",
    "\n",
    "from sklearn.metrics import confusion_matrix, accuracy_score, precision_score, recall_score, f1_score, classification_report\n",
    "\n",
    "accuracy = accuracy_score(y_test, y_pred)\n",
    "\n",
    "precision=precision_score(y_test, y_pred, \n",
    "                                           pos_label='positive',\n",
    "                                           average='micro')\n",
    "classes = np.unique(y_test)\n",
    "report = classification_report(y_test, y_pred, labels=classes)\n",
    "\n",
    "recall = recall_score(y_test, y_pred, \n",
    "                                           pos_label='positive',\n",
    "                                           average='micro')\n",
    "\n",
    "f1 = f1_score(y_test, y_pred, \n",
    "                                           pos_label='positive',\n",
    "                                           average='micro')\n",
    "\n"
   ]
  },
  {
   "cell_type": "code",
   "execution_count": 63,
   "metadata": {},
   "outputs": [
    {
     "name": "stdout",
     "output_type": "stream",
     "text": [
      "Classification report:\n",
      "               precision    recall  f1-score   support\n",
      "\n",
      "           0       0.28      0.08      0.12      1372\n",
      "         0,0       0.00      0.00      0.00        47\n",
      "       0,0,0       0.00      0.00      0.00         2\n",
      "      0,0,11       0.00      0.00      0.00         2\n",
      "      0,0,13       0.00      0.00      0.00         1\n",
      "       0,0,2       0.00      0.00      0.00         1\n",
      "       0,0,3       0.00      0.00      0.00         2\n",
      "       0,0,5       0.00      0.00      0.00         1\n",
      "       0,0,8       0.00      0.00      0.00         2\n",
      "         0,1       0.00      0.00      0.00        21\n",
      "       0,1,1       0.00      0.00      0.00         1\n",
      "    0,1,2,11       0.00      0.00      0.00         1\n",
      "       0,1,8       0.00      0.00      0.00         1\n",
      "        0,10       0.00      0.00      0.00        18\n",
      "     0,10,11       0.00      0.00      0.00         1\n",
      "   0,10,4,11       0.00      0.00      0.00         1\n",
      "    0,10,4,8       0.00      0.00      0.00         1\n",
      "      0,10,8       0.00      0.00      0.00         1\n",
      "        0,11       0.00      0.00      0.00        60\n",
      "      0,11,0       0.00      0.00      0.00         1\n",
      "     0,11,12       0.00      0.00      0.00         1\n",
      "      0,11,2       0.00      0.00      0.00         1\n",
      "    0,11,2,3       0.00      0.00      0.00         1\n",
      "      0,11,3       0.00      0.00      0.00         1\n",
      "        0,12       0.00      0.00      0.00         5\n",
      "        0,13       0.00      0.00      0.00        47\n",
      "         0,2       0.00      0.00      0.00        58\n",
      "       0,2,3       0.00      0.00      0.00         2\n",
      "         0,3       0.00      0.00      0.00        44\n",
      "      0,3,10       0.00      0.00      0.00         1\n",
      "      0,3,12       0.00      0.00      0.00         1\n",
      "         0,4       0.00      0.00      0.00        30\n",
      "      0,4,11       0.00      0.00      0.00         1\n",
      "       0,4,2       0.00      0.00      0.00         2\n",
      "       0,4,3       0.00      0.00      0.00         1\n",
      "       0,4,8       0.00      0.00      0.00         1\n",
      "         0,5       0.00      0.00      0.00         4\n",
      "       0,5,6       0.00      0.00      0.00         1\n",
      "         0,6       0.00      0.00      0.00         9\n",
      "       0,6,0       0.00      0.00      0.00         1\n",
      "       0,6,2       0.00      0.00      0.00         1\n",
      "       0,6,3       0.00      0.00      0.00         3\n",
      "       0,6,7       0.00      0.00      0.00         1\n",
      "       0,6,8       0.00      0.00      0.00         1\n",
      "     0,6,8,3       0.00      0.00      0.00         1\n",
      "         0,7       0.00      0.00      0.00         2\n",
      "         0,8       0.00      0.00      0.00       143\n",
      "       0,8,0       0.00      0.00      0.00         2\n",
      "      0,8,10       0.00      0.00      0.00         1\n",
      "      0,8,11       0.00      0.00      0.00         9\n",
      "       0,8,2       0.00      0.00      0.00         2\n",
      "       0,8,3       0.00      0.00      0.00         7\n",
      "       0,8,5       0.00      0.00      0.00         2\n",
      "       0,8,7       0.00      0.00      0.00         1\n",
      "       0,8,8       0.00      0.00      0.00         2\n",
      "           1       0.00      0.00      0.00       650\n",
      "         1,0       0.00      0.00      0.00         2\n",
      "         1,1       0.00      0.00      0.00        59\n",
      "       1,1,5       0.00      0.00      0.00         3\n",
      "       1,1,6       0.00      0.00      0.00         3\n",
      "        1,10       0.00      0.00      0.00        12\n",
      "      1,10,6       0.00      0.00      0.00         1\n",
      "      1,10,7       0.00      0.00      0.00         1\n",
      "        1,11       0.00      0.00      0.00         2\n",
      "        1,13       0.00      0.00      0.00        55\n",
      "         1,2       0.00      0.00      0.00         5\n",
      "      1,2,13       0.00      0.00      0.00         1\n",
      "         1,3       0.00      0.00      0.00        18\n",
      "         1,4       0.00      0.00      0.00        14\n",
      "       1,4,3       0.00      0.00      0.00         1\n",
      "       1,4,6       0.00      0.00      0.00         1\n",
      "         1,5       0.00      0.00      0.00        29\n",
      "      1,5,10       0.00      0.00      0.00         1\n",
      "       1,5,6       0.00      0.00      0.00         6\n",
      "         1,6       0.00      0.00      0.00        70\n",
      "      1,6,10       0.00      0.00      0.00         1\n",
      "       1,6,6       0.00      0.00      0.00         5\n",
      "       1,6,7       0.00      0.00      0.00         1\n",
      "         1,7       0.00      0.00      0.00         4\n",
      "         1,8       0.00      0.00      0.00        18\n",
      "       1,8,3       0.00      0.00      0.00         2\n",
      "          10       0.00      0.00      0.00       472\n",
      "        10,0       0.00      0.00      0.00         7\n",
      "       10,10       0.00      0.00      0.00        11\n",
      "       10,13       0.00      0.00      0.00        30\n",
      "     10,2,10       0.00      0.00      0.00         1\n",
      "        10,3       0.00      0.00      0.00         5\n",
      "        10,4       0.00      0.00      0.00        35\n",
      "      10,4,0       0.00      0.00      0.00         1\n",
      "     10,4,13       0.00      0.00      0.00         4\n",
      "      10,4,3       0.00      0.00      0.00         2\n",
      "      10,4,5       0.00      0.00      0.00         1\n",
      "        10,5       0.00      0.00      0.00         3\n",
      "        10,6       0.00      0.00      0.00         3\n",
      "     10,6,10       0.00      0.00      0.00         1\n",
      "        10,7       0.00      0.00      0.00         1\n",
      "      10,7,0       0.00      0.00      0.00         1\n",
      "        10,8       0.00      0.00      0.00         2\n",
      "      10,8,3       0.00      0.00      0.00         1\n",
      "          11       0.00      0.00      0.00       207\n",
      "        11,0       0.00      0.00      0.00         1\n",
      "       11,10       0.00      0.00      0.00         3\n",
      "       11,12       0.00      0.00      0.00         2\n",
      "       11,13       0.00      0.00      0.00        10\n",
      "        11,2       0.00      0.00      0.00        16\n",
      "        11,3       0.00      0.00      0.00         9\n",
      "          12       0.00      0.00      0.00        20\n",
      "       12,13       0.00      0.00      0.00         1\n",
      "          13       0.32      0.98      0.48      3175\n",
      "           2       0.59      0.39      0.47       547\n",
      "         2,0       0.00      0.00      0.00         2\n",
      "        2,10       0.00      0.00      0.00         6\n",
      "        2,11       0.00      0.00      0.00         6\n",
      "        2,13       0.00      0.00      0.00        21\n",
      "         2,2       0.00      0.00      0.00         4\n",
      "         2,3       0.00      0.00      0.00        27\n",
      "      2,3,10       0.00      0.00      0.00         1\n",
      "       2,3,3       0.00      0.00      0.00         1\n",
      "         2,4       0.00      0.00      0.00         1\n",
      "       2,4,3       0.00      0.00      0.00         1\n",
      "         2,5       0.00      0.00      0.00         2\n",
      "      2,5,10       0.00      0.00      0.00         1\n",
      "       2,5,3       0.00      0.00      0.00         1\n",
      "         2,6       0.00      0.00      0.00         2\n",
      "      2,6,11       0.00      0.00      0.00         1\n",
      "         2,7       0.00      0.00      0.00         3\n",
      "         2,8       0.00      0.00      0.00         1\n",
      "       2,8,3       0.00      0.00      0.00         1\n",
      "           3       0.00      0.00      0.00       349\n",
      "         3,0       0.00      0.00      0.00        11\n",
      "        3,10       0.00      0.00      0.00        11\n",
      "        3,12       0.00      0.00      0.00         1\n",
      "        3,13       0.00      0.00      0.00        42\n",
      "         3,3       0.00      0.00      0.00         7\n",
      "           4       0.00      0.00      0.00       427\n",
      "         4,0       0.00      0.00      0.00        18\n",
      "      4,0,11       0.00      0.00      0.00         1\n",
      "       4,0,3       0.00      0.00      0.00         2\n",
      "        4,10       0.00      0.00      0.00         9\n",
      "        4,11       0.00      0.00      0.00         3\n",
      "      4,11,2       0.00      0.00      0.00         1\n",
      "        4,13       0.00      0.00      0.00        29\n",
      "         4,2       0.00      0.00      0.00        12\n",
      "      4,2,10       0.00      0.00      0.00         1\n",
      "         4,3       0.00      0.00      0.00        25\n",
      "         4,4       0.00      0.00      0.00         4\n",
      "       4,4,0       0.00      0.00      0.00         1\n",
      "         4,5       0.00      0.00      0.00         4\n",
      "      4,5,10       0.00      0.00      0.00         2\n",
      "   4,5,10,10       0.00      0.00      0.00         1\n",
      "         4,6       0.00      0.00      0.00         9\n",
      "      4,6,10       0.00      0.00      0.00         3\n",
      "       4,6,2       0.00      0.00      0.00         1\n",
      "       4,6,6       0.00      0.00      0.00         1\n",
      "      4,7,10       0.00      0.00      0.00         1\n",
      "         4,8       0.00      0.00      0.00        11\n",
      "       4,8,3       0.00      0.00      0.00         1\n",
      "           5       0.00      0.00      0.00       176\n",
      "         5,0       0.00      0.00      0.00         2\n",
      "        5,10       0.00      0.00      0.00        26\n",
      "     5,10,10       0.00      0.00      0.00         1\n",
      "     5,10,13       0.00      0.00      0.00         1\n",
      "        5,13       0.00      0.00      0.00        24\n",
      "         5,2       0.00      0.00      0.00         2\n",
      "         5,3       0.00      0.00      0.00         8\n",
      "         5,6       0.00      0.00      0.00        15\n",
      "         5,7       0.00      0.00      0.00         3\n",
      "         5,8       0.00      0.00      0.00         1\n",
      "         5,9       0.00      0.00      0.00         1\n",
      "           6       0.00      0.00      0.00       544\n",
      "         6,0       0.00      0.00      0.00         2\n",
      "      6,0,11       0.00      0.00      0.00         1\n",
      "        6,10       0.00      0.00      0.00        14\n",
      "        6,13       0.00      0.00      0.00        38\n",
      "         6,2       0.00      0.00      0.00         3\n",
      "         6,3       0.00      0.00      0.00        21\n",
      "      6,3,10       0.00      0.00      0.00         2\n",
      "      6,3,12       0.00      0.00      0.00         1\n",
      "         6,6       0.00      0.00      0.00        14\n",
      "      6,6,13       0.00      0.00      0.00         1\n",
      "         6,7       0.00      0.00      0.00         1\n",
      "       6,7,3       0.00      0.00      0.00         1\n",
      "         6,8       0.00      0.00      0.00         3\n",
      "         6,9       0.00      0.00      0.00         1\n",
      "           7       0.00      0.00      0.00       142\n",
      "         7,0       0.00      0.00      0.00         1\n",
      "        7,10       0.00      0.00      0.00         6\n",
      "        7,13       0.00      0.00      0.00         7\n",
      "         7,2       0.00      0.00      0.00         1\n",
      "         7,3       0.00      0.00      0.00         1\n",
      "      7,3,10       0.00      0.00      0.00         1\n",
      "         7,7       0.00      0.00      0.00         6\n",
      "      7,8,10       0.00      0.00      0.00         1\n",
      "           8       0.69      0.22      0.34       980\n",
      "         8,0       0.00      0.00      0.00        14\n",
      "       8,0,3       0.00      0.00      0.00         1\n",
      "        8,10       0.00      0.00      0.00        16\n",
      "        8,11       0.00      0.00      0.00        14\n",
      "      8,11,3       0.00      0.00      0.00         1\n",
      "        8,12       0.00      0.00      0.00         4\n",
      "        8,13       0.00      0.00      0.00        45\n",
      "         8,2       0.00      0.00      0.00        48\n",
      "       8,2,3       0.00      0.00      0.00         1\n",
      "         8,3       0.00      0.00      0.00        54\n",
      "      8,3,12       0.00      0.00      0.00         1\n",
      "      8,3,13       0.00      0.00      0.00         1\n",
      "       8,3,3       0.00      0.00      0.00         1\n",
      "         8,4       0.00      0.00      0.00        11\n",
      "         8,5       0.00      0.00      0.00         2\n",
      "         8,6       0.00      0.00      0.00         8\n",
      "         8,7       0.00      0.00      0.00         1\n",
      "         8,8       0.00      0.00      0.00        19\n",
      "      8,9,10       0.00      0.00      0.00         1\n",
      "           9       0.00      0.00      0.00        14\n",
      "         9,0       0.00      0.00      0.00         1\n",
      "        9,10       0.00      0.00      0.00         6\n",
      "     9,10,10       0.00      0.00      0.00         1\n",
      "        9,13       0.00      0.00      0.00         1\n",
      "\n",
      "    accuracy                           0.34     10853\n",
      "   macro avg       0.01      0.01      0.01     10853\n",
      "weighted avg       0.22      0.34      0.21     10853\n",
      "\n",
      "Accuracy: 0.33603611904542524\n",
      "Precision: 0.33603611904542524\n",
      "Recall: 0.33603611904542524\n",
      "F1 score: 0.33603611904542524\n"
     ]
    }
   ],
   "source": [
    "print(\"Classification report:\\n\", report)\n",
    "print(\"Accuracy:\", accuracy)\n",
    "print(\"Precision:\", precision)\n",
    "print(\"Recall:\", recall)\n",
    "print(\"F1 score:\", f1)"
   ]
  },
  {
   "cell_type": "markdown",
   "metadata": {},
   "source": [
    "## Exp 4 - train-test splitting"
   ]
  },
  {
   "cell_type": "code",
   "execution_count": 31,
   "metadata": {},
   "outputs": [],
   "source": [
    "x = df['text']\n",
    "y=df['l']"
   ]
  },
  {
   "cell_type": "code",
   "execution_count": 32,
   "metadata": {},
   "outputs": [],
   "source": [
    "def test(X_train, X_test, y_train, y_test):\n",
    "    vectorizer = TfidfVectorizer()\n",
    "    X_train = vectorizer.fit_transform(X_train)\n",
    "    X_test = vectorizer.transform(X_test)\n",
    "    \n",
    "    clf = svm.SVC(kernel='linear')\n",
    "    clf.fit(X_train, y_train)\n",
    "    \n",
    "    y_pred = clf.predict(X_test)\n",
    "    accuracy = accuracy_score(y_test, y_pred)\n",
    "    print('Accuracy:', accuracy)"
   ]
  },
  {
   "cell_type": "code",
   "execution_count": 37,
   "metadata": {},
   "outputs": [
    {
     "name": "stdout",
     "output_type": "stream",
     "text": [
      "\n",
      " the total number of Training Data : (48836,)\n",
      "\n",
      " the total number of Test Data : (5427,)\n",
      "Accuracy: 0.5034088815183343\n",
      "\n",
      " the total number of Training Data : (43410,)\n",
      "\n",
      " the total number of Test Data : (10853,)\n",
      "Accuracy: 0.4945176448908136\n",
      "\n",
      " the total number of Training Data : (37984,)\n",
      "\n",
      " the total number of Test Data : (16279,)\n",
      "Accuracy: 0.49431783279071195\n"
     ]
    }
   ],
   "source": [
    "per = [0.1, 0.2, 0.3]\n",
    "for i in per:\n",
    "    X_train, X_test, y_train, y_test = train_test_split(x, y, test_size=i, random_state=42)\n",
    "    print ('\\nThe total number of Training Data :',y_train.shape)\n",
    "    print ('The total number of Test Data :',y_test.shape)\n",
    "    test(X_train, X_test, y_train, y_test)"
   ]
  },
  {
   "cell_type": "code",
   "execution_count": null,
   "metadata": {},
   "outputs": [],
   "source": []
  }
 ],
 "metadata": {
  "colab": {
   "authorship_tag": "ABX9TyMlwFGj1mYe5Xhnj3v/j9Wn",
   "provenance": []
  },
  "kernelspec": {
   "display_name": "Python 3 (ipykernel)",
   "language": "python",
   "name": "python3"
  },
  "language_info": {
   "codemirror_mode": {
    "name": "ipython",
    "version": 3
   },
   "file_extension": ".py",
   "mimetype": "text/x-python",
   "name": "python",
   "nbconvert_exporter": "python",
   "pygments_lexer": "ipython3",
   "version": "3.10.9"
  }
 },
 "nbformat": 4,
 "nbformat_minor": 1
}
